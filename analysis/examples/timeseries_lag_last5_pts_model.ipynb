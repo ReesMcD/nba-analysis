{
 "cells": [
  {
   "cell_type": "code",
   "execution_count": null,
   "id": "initial_id",
   "metadata": {
    "collapsed": true
   },
   "outputs": [],
   "source": [
    "import warnings\n",
    "\n",
    "warnings.filterwarnings('ignore')\n",
    "\n",
    "import os\n",
    "\n",
    "from tools.modeling.timeserieshyperparamtuner import TimeSeriesHyperParamTuner\n",
    "from tools.modeling.timeseriesmodeler import TimeSeriesModeler\n",
    "\n",
    "from nba.common import add_game_log_lag, add_game_log_last_5\n",
    "import nba.constants as c\n",
    "\n",
    "from xgboost import XGBRegressor\n",
    "from hyperopt import hp\n",
    "\n",
    "import numpy as np\n",
    "import pandas as pd\n",
    "\n",
    "import glob\n",
    "import shap\n",
    "\n",
    "ROOT_DIR = os.getcwd()[:-17] # verify this points to the root directory of the project\n",
    "\n",
    "\n",
    "SEED = 1\n",
    "early_stopping = 50\n",
    "season = c.SEASON_2022_2023\n",
    "player_game_log_path = ROOT_DIR + 'data/game_logs/2022-23/player'\n",
    "player_game_log_csv_files = glob.glob(os.path.join(player_game_log_path, '*.csv'))\n",
    "\n",
    "log = pd.DataFrame()\n",
    "\n",
    "ROOT_DIR"
   ]
  },
  {
   "cell_type": "code",
   "outputs": [],
   "source": [
    "# Get Data\n",
    "for f in player_game_log_csv_files:\n",
    "    df = pd.read_csv(f)\n",
    "    log = pd.concat([log, df], ignore_index=True)\n",
    "\n",
    "log.to_csv(ROOT_DIR + '/data/game_logs/2022-23/player_game_log_2022-2023.csv', index=False)\n",
    "log"
   ],
   "metadata": {
    "collapsed": false
   },
   "id": "a10ae9a609fdee5e",
   "execution_count": null
  },
  {
   "cell_type": "code",
   "outputs": [],
   "source": [
    "log[c.GAME_DATE] = pd.to_datetime(log[c.GAME_DATE])\n",
    "log = add_game_log_last_5(log)\n",
    "log = add_game_log_lag(log)\n",
    "\n",
    "log.sort_values(by=[c.GAME_DATE])\n",
    "log"
   ],
   "metadata": {
    "collapsed": false
   },
   "id": "97951f4a3a498223",
   "execution_count": null
  },
  {
   "cell_type": "code",
   "outputs": [],
   "source": [
    "# Preprocess Data\n",
    "PTS_PREDICTION_MASK = [c.PTS] + c.GAME_LOG_LAST_5_MASK + c.GAME_LOG_LAG_MASK\n",
    "log = log[PTS_PREDICTION_MASK]\n",
    "log.dropna()\n",
    "\n",
    "cats = log.select_dtypes(exclude=np.number).columns.tolist()\n",
    "for col in cats:\n",
    "    log[col] = log[col].astype('category')"
   ],
   "metadata": {
    "collapsed": false
   },
   "id": "9cdf050b397056ed",
   "execution_count": null
  },
  {
   "cell_type": "code",
   "outputs": [],
   "source": [
    "rmse = {\n",
    "    'base_model': 0,\n",
    "    'tuned_model': 0,\n",
    "}\n",
    "\n",
    "params = {\n",
    "    'objective': 'reg:squarederror',\n",
    "    'eval_metric': 'rmse',\n",
    "    'n_estimators': 1000\n",
    "}"
   ],
   "metadata": {
    "collapsed": false
   },
   "id": "6652499d750f5cd9",
   "execution_count": null
  },
  {
   "cell_type": "code",
   "outputs": [],
   "source": [
    "ts_modeler = TimeSeriesModeler(XGBRegressor())\n",
    "ts_modeler.ts_train(params, log, c.PTS)\n",
    "rmse['base_model'] = ts_modeler.ts_rmse()"
   ],
   "metadata": {
    "collapsed": false
   },
   "id": "8eef67675427d12c",
   "execution_count": null
  },
  {
   "cell_type": "code",
   "outputs": [],
   "source": [
    "shap.plots.bar(ts_modeler.shap_values(), max_display=100)"
   ],
   "metadata": {
    "collapsed": false
   },
   "id": "2fb34bfd22105593",
   "execution_count": null
  },
  {
   "cell_type": "code",
   "outputs": [],
   "source": [
    "space = {\n",
    "    'objective': 'reg:squarederror',\n",
    "    'eval_metric': 'rmse',\n",
    "    'max_depth': hp.quniform('max_depth', 3, 18, 1),\n",
    "    'gamma': hp.uniform('gamma', 1, 9),\n",
    "    'reg_alpha': hp.quniform('reg_alpha', 40, 180, 1),\n",
    "    'reg_lambda': hp.uniform('reg_lambda', 0, 1),\n",
    "    'colsample_bytree': hp.uniform('colsample_bytree', 0.5, 1),\n",
    "    'min_child_weight': hp.quniform('min_child_weight', 0, 10, 1),\n",
    "    'eta': hp.quniform('eta', 0.025, 0.5, 0.025),\n",
    "    'subsample': hp.quniform('subsample', 0.5, 1, 0.05),\n",
    "    'n_estimators': hp.quniform('n_estimators', 100, 1000, 1),\n",
    "}\n",
    "\n",
    "tuner = TimeSeriesHyperParamTuner(ts_modeler, space)\n",
    "best = tuner.ts_optimize(250, log, c.PTS)\n",
    "best"
   ],
   "metadata": {
    "collapsed": false
   },
   "id": "d899c042c1469cf2",
   "execution_count": null
  },
  {
   "cell_type": "code",
   "outputs": [],
   "source": [
    "ts_modeler.ts_train(best, log, c.PTS)\n",
    "rmse['tuned_model'] = ts_modeler.ts_rmse()\n",
    "rmse"
   ],
   "metadata": {
    "collapsed": false
   },
   "id": "488a0f0ceb934f3d",
   "execution_count": null
  },
  {
   "cell_type": "code",
   "outputs": [],
   "source": [
    "shap.plots.bar(ts_modeler.shap_values(), max_display=100)"
   ],
   "metadata": {
    "collapsed": false
   },
   "id": "a227acd4876c02b9",
   "execution_count": null
  }
 ],
 "metadata": {
  "kernelspec": {
   "display_name": "Python 3",
   "language": "python",
   "name": "python3"
  },
  "language_info": {
   "codemirror_mode": {
    "name": "ipython",
    "version": 2
   },
   "file_extension": ".py",
   "mimetype": "text/x-python",
   "name": "python",
   "nbconvert_exporter": "python",
   "pygments_lexer": "ipython2",
   "version": "2.7.6"
  }
 },
 "nbformat": 4,
 "nbformat_minor": 5
}
