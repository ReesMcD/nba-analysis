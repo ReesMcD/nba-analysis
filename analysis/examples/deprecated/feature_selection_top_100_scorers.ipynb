{
 "cells": [
  {
   "cell_type": "code",
   "outputs": [
    {
     "data": {
      "text/plain": "'/Users/rmcdevi2/Projects/personal/nba-analysis/'"
     },
     "execution_count": 5,
     "metadata": {},
     "output_type": "execute_result"
    }
   ],
   "source": [
    "import warnings\n",
    "warnings.filterwarnings('ignore')\n",
    "\n",
    "import os\n",
    "ROOT_DIR = os.getcwd()[:-28] # verify this points to the root directory of the project\n",
    "\n",
    "from tools.modeling.deprecated.timeseriesmodeler import TimeSeriesModeler\n",
    "\n",
    "from nba.common import add_game_log_lag, add_game_log_last_5\n",
    "import nba.constants as c\n",
    "\n",
    "from xgboost import XGBRegressor\n",
    "\n",
    "import numpy as np\n",
    "import pandas as pd\n",
    "\n",
    "\n",
    "season = c.SEASON_2022_2023\n",
    "\n",
    "ROOT_DIR"
   ],
   "metadata": {
    "collapsed": false,
    "ExecuteTime": {
     "end_time": "2024-03-02T03:11:24.159430Z",
     "start_time": "2024-03-02T03:11:24.144842Z"
    }
   },
   "id": "initial_id",
   "execution_count": 5
  },
  {
   "cell_type": "code",
   "outputs": [
    {
     "data": {
      "text/plain": "     SEASON_YEAR  PLAYER_ID    PLAYER_NAME     TEAM_ID TEAM_ABBREVIATION  \\\n0        2022-23     203954    Joel Embiid  1610612755               PHI   \n1        2022-23     203954    Joel Embiid  1610612755               PHI   \n2        2022-23     203954    Joel Embiid  1610612755               PHI   \n3        2022-23     203954    Joel Embiid  1610612755               PHI   \n4        2022-23     203954    Joel Embiid  1610612755               PHI   \n...          ...        ...            ...         ...               ...   \n6576     2022-23    1628386  Jarrett Allen  1610612739               CLE   \n6577     2022-23    1628386  Jarrett Allen  1610612739               CLE   \n6578     2022-23    1628386  Jarrett Allen  1610612739               CLE   \n6579     2022-23    1628386  Jarrett Allen  1610612739               CLE   \n6580     2022-23    1628386  Jarrett Allen  1610612739               CLE   \n\n                TEAM_NAME   GAME_ID   GAME_DATE      MATCHUP WL  ...  AST  \\\n0      Philadelphia 76ers  22201198  2023-04-06  PHI vs. MIA  L  ...    2   \n1      Philadelphia 76ers  22201181  2023-04-04  PHI vs. BOS  W  ...    6   \n2      Philadelphia 76ers  22201174  2023-04-02    PHI @ MIL  L  ...    5   \n3      Philadelphia 76ers  22201150  2023-03-31  PHI vs. TOR  W  ...    1   \n4      Philadelphia 76ers  22201139  2023-03-29  PHI vs. DAL  W  ...    3   \n...                   ...       ...         ...          ... ..  ...  ...   \n6576  Cleveland Cavaliers  22200072  2022-10-28    CLE @ BOS  W  ...    2   \n6577  Cleveland Cavaliers  22200056  2022-10-26  CLE vs. ORL  W  ...    1   \n6578  Cleveland Cavaliers  22200039  2022-10-23  CLE vs. WAS  W  ...    3   \n6579  Cleveland Cavaliers  22200032  2022-10-22    CLE @ CHI  W  ...    2   \n6580  Cleveland Cavaliers  22200008  2022-10-19    CLE @ TOR  L  ...    0   \n\n      TOV  STL  BLK  BLKA  PF  PFD  PTS  PLUS_MINUS   SEASON  \n0       2    0    2     0   1    4   21         -11  2022-23  \n1       3    0    2     1   3    9   52          17  2022-23  \n2       1    0    0     1   4    4   28         -10  2022-23  \n3       5    0    1     0   3    6   25           0  2022-23  \n4       4    1    1     1   4    6   25          10  2022-23  \n...   ...  ...  ...   ...  ..  ...  ...         ...      ...  \n6576    0    0    0     0   2    2   12          25  2022-23  \n6577    1    1    1     0   5    5   18          11  2022-23  \n6578    0    0    2     1   2    4   15          -1  2022-23  \n6579    2    0    1     0   2    3    8           5  2022-23  \n6580    1    0    2     1   2    5   13           2  2022-23  \n\n[6581 rows x 33 columns]",
      "text/html": "<div>\n<style scoped>\n    .dataframe tbody tr th:only-of-type {\n        vertical-align: middle;\n    }\n\n    .dataframe tbody tr th {\n        vertical-align: top;\n    }\n\n    .dataframe thead th {\n        text-align: right;\n    }\n</style>\n<table border=\"1\" class=\"dataframe\">\n  <thead>\n    <tr style=\"text-align: right;\">\n      <th></th>\n      <th>SEASON_YEAR</th>\n      <th>PLAYER_ID</th>\n      <th>PLAYER_NAME</th>\n      <th>TEAM_ID</th>\n      <th>TEAM_ABBREVIATION</th>\n      <th>TEAM_NAME</th>\n      <th>GAME_ID</th>\n      <th>GAME_DATE</th>\n      <th>MATCHUP</th>\n      <th>WL</th>\n      <th>...</th>\n      <th>AST</th>\n      <th>TOV</th>\n      <th>STL</th>\n      <th>BLK</th>\n      <th>BLKA</th>\n      <th>PF</th>\n      <th>PFD</th>\n      <th>PTS</th>\n      <th>PLUS_MINUS</th>\n      <th>SEASON</th>\n    </tr>\n  </thead>\n  <tbody>\n    <tr>\n      <th>0</th>\n      <td>2022-23</td>\n      <td>203954</td>\n      <td>Joel Embiid</td>\n      <td>1610612755</td>\n      <td>PHI</td>\n      <td>Philadelphia 76ers</td>\n      <td>22201198</td>\n      <td>2023-04-06</td>\n      <td>PHI vs. MIA</td>\n      <td>L</td>\n      <td>...</td>\n      <td>2</td>\n      <td>2</td>\n      <td>0</td>\n      <td>2</td>\n      <td>0</td>\n      <td>1</td>\n      <td>4</td>\n      <td>21</td>\n      <td>-11</td>\n      <td>2022-23</td>\n    </tr>\n    <tr>\n      <th>1</th>\n      <td>2022-23</td>\n      <td>203954</td>\n      <td>Joel Embiid</td>\n      <td>1610612755</td>\n      <td>PHI</td>\n      <td>Philadelphia 76ers</td>\n      <td>22201181</td>\n      <td>2023-04-04</td>\n      <td>PHI vs. BOS</td>\n      <td>W</td>\n      <td>...</td>\n      <td>6</td>\n      <td>3</td>\n      <td>0</td>\n      <td>2</td>\n      <td>1</td>\n      <td>3</td>\n      <td>9</td>\n      <td>52</td>\n      <td>17</td>\n      <td>2022-23</td>\n    </tr>\n    <tr>\n      <th>2</th>\n      <td>2022-23</td>\n      <td>203954</td>\n      <td>Joel Embiid</td>\n      <td>1610612755</td>\n      <td>PHI</td>\n      <td>Philadelphia 76ers</td>\n      <td>22201174</td>\n      <td>2023-04-02</td>\n      <td>PHI @ MIL</td>\n      <td>L</td>\n      <td>...</td>\n      <td>5</td>\n      <td>1</td>\n      <td>0</td>\n      <td>0</td>\n      <td>1</td>\n      <td>4</td>\n      <td>4</td>\n      <td>28</td>\n      <td>-10</td>\n      <td>2022-23</td>\n    </tr>\n    <tr>\n      <th>3</th>\n      <td>2022-23</td>\n      <td>203954</td>\n      <td>Joel Embiid</td>\n      <td>1610612755</td>\n      <td>PHI</td>\n      <td>Philadelphia 76ers</td>\n      <td>22201150</td>\n      <td>2023-03-31</td>\n      <td>PHI vs. TOR</td>\n      <td>W</td>\n      <td>...</td>\n      <td>1</td>\n      <td>5</td>\n      <td>0</td>\n      <td>1</td>\n      <td>0</td>\n      <td>3</td>\n      <td>6</td>\n      <td>25</td>\n      <td>0</td>\n      <td>2022-23</td>\n    </tr>\n    <tr>\n      <th>4</th>\n      <td>2022-23</td>\n      <td>203954</td>\n      <td>Joel Embiid</td>\n      <td>1610612755</td>\n      <td>PHI</td>\n      <td>Philadelphia 76ers</td>\n      <td>22201139</td>\n      <td>2023-03-29</td>\n      <td>PHI vs. DAL</td>\n      <td>W</td>\n      <td>...</td>\n      <td>3</td>\n      <td>4</td>\n      <td>1</td>\n      <td>1</td>\n      <td>1</td>\n      <td>4</td>\n      <td>6</td>\n      <td>25</td>\n      <td>10</td>\n      <td>2022-23</td>\n    </tr>\n    <tr>\n      <th>...</th>\n      <td>...</td>\n      <td>...</td>\n      <td>...</td>\n      <td>...</td>\n      <td>...</td>\n      <td>...</td>\n      <td>...</td>\n      <td>...</td>\n      <td>...</td>\n      <td>...</td>\n      <td>...</td>\n      <td>...</td>\n      <td>...</td>\n      <td>...</td>\n      <td>...</td>\n      <td>...</td>\n      <td>...</td>\n      <td>...</td>\n      <td>...</td>\n      <td>...</td>\n      <td>...</td>\n    </tr>\n    <tr>\n      <th>6576</th>\n      <td>2022-23</td>\n      <td>1628386</td>\n      <td>Jarrett Allen</td>\n      <td>1610612739</td>\n      <td>CLE</td>\n      <td>Cleveland Cavaliers</td>\n      <td>22200072</td>\n      <td>2022-10-28</td>\n      <td>CLE @ BOS</td>\n      <td>W</td>\n      <td>...</td>\n      <td>2</td>\n      <td>0</td>\n      <td>0</td>\n      <td>0</td>\n      <td>0</td>\n      <td>2</td>\n      <td>2</td>\n      <td>12</td>\n      <td>25</td>\n      <td>2022-23</td>\n    </tr>\n    <tr>\n      <th>6577</th>\n      <td>2022-23</td>\n      <td>1628386</td>\n      <td>Jarrett Allen</td>\n      <td>1610612739</td>\n      <td>CLE</td>\n      <td>Cleveland Cavaliers</td>\n      <td>22200056</td>\n      <td>2022-10-26</td>\n      <td>CLE vs. ORL</td>\n      <td>W</td>\n      <td>...</td>\n      <td>1</td>\n      <td>1</td>\n      <td>1</td>\n      <td>1</td>\n      <td>0</td>\n      <td>5</td>\n      <td>5</td>\n      <td>18</td>\n      <td>11</td>\n      <td>2022-23</td>\n    </tr>\n    <tr>\n      <th>6578</th>\n      <td>2022-23</td>\n      <td>1628386</td>\n      <td>Jarrett Allen</td>\n      <td>1610612739</td>\n      <td>CLE</td>\n      <td>Cleveland Cavaliers</td>\n      <td>22200039</td>\n      <td>2022-10-23</td>\n      <td>CLE vs. WAS</td>\n      <td>W</td>\n      <td>...</td>\n      <td>3</td>\n      <td>0</td>\n      <td>0</td>\n      <td>2</td>\n      <td>1</td>\n      <td>2</td>\n      <td>4</td>\n      <td>15</td>\n      <td>-1</td>\n      <td>2022-23</td>\n    </tr>\n    <tr>\n      <th>6579</th>\n      <td>2022-23</td>\n      <td>1628386</td>\n      <td>Jarrett Allen</td>\n      <td>1610612739</td>\n      <td>CLE</td>\n      <td>Cleveland Cavaliers</td>\n      <td>22200032</td>\n      <td>2022-10-22</td>\n      <td>CLE @ CHI</td>\n      <td>W</td>\n      <td>...</td>\n      <td>2</td>\n      <td>2</td>\n      <td>0</td>\n      <td>1</td>\n      <td>0</td>\n      <td>2</td>\n      <td>3</td>\n      <td>8</td>\n      <td>5</td>\n      <td>2022-23</td>\n    </tr>\n    <tr>\n      <th>6580</th>\n      <td>2022-23</td>\n      <td>1628386</td>\n      <td>Jarrett Allen</td>\n      <td>1610612739</td>\n      <td>CLE</td>\n      <td>Cleveland Cavaliers</td>\n      <td>22200008</td>\n      <td>2022-10-19</td>\n      <td>CLE @ TOR</td>\n      <td>L</td>\n      <td>...</td>\n      <td>0</td>\n      <td>1</td>\n      <td>0</td>\n      <td>2</td>\n      <td>1</td>\n      <td>2</td>\n      <td>5</td>\n      <td>13</td>\n      <td>2</td>\n      <td>2022-23</td>\n    </tr>\n  </tbody>\n</table>\n<p>6581 rows × 33 columns</p>\n</div>"
     },
     "execution_count": 6,
     "metadata": {},
     "output_type": "execute_result"
    }
   ],
   "source": [
    "logs = pd.read_csv(ROOT_DIR + '/data/game_logs/{season}/top_100_scorers_{season}_game_log.csv'.format(season=season))\n",
    "logs"
   ],
   "metadata": {
    "collapsed": false,
    "ExecuteTime": {
     "end_time": "2024-03-02T03:11:24.183163Z",
     "start_time": "2024-03-02T03:11:24.151123Z"
    }
   },
   "id": "ff3ef7c26db56931",
   "execution_count": 6
  },
  {
   "cell_type": "code",
   "outputs": [
    {
     "data": {
      "text/plain": "     SEASON_YEAR  PLAYER_ID         PLAYER_NAME     TEAM_ID TEAM_ABBREVIATION  \\\n552      2022-23       2544        LeBron James  1610612747               LAL   \n551      2022-23       2544        LeBron James  1610612747               LAL   \n550      2022-23       2544        LeBron James  1610612747               LAL   \n549      2022-23       2544        LeBron James  1610612747               LAL   \n548      2022-23       2544        LeBron James  1610612747               LAL   \n...          ...        ...                 ...         ...               ...   \n4800     2022-23    1631097  Bennedict Mathurin  1610612754               IND   \n4799     2022-23    1631097  Bennedict Mathurin  1610612754               IND   \n4798     2022-23    1631097  Bennedict Mathurin  1610612754               IND   \n4797     2022-23    1631097  Bennedict Mathurin  1610612754               IND   \n4796     2022-23    1631097  Bennedict Mathurin  1610612754               IND   \n\n               TEAM_NAME   GAME_ID  GAME_DATE      MATCHUP WL  ...  \\\n552   Los Angeles Lakers  22200002 2022-10-18    LAL @ GSW  L  ...   \n551   Los Angeles Lakers  22200016 2022-10-20  LAL vs. LAC  L  ...   \n550   Los Angeles Lakers  22200037 2022-10-23  LAL vs. POR  L  ...   \n549   Los Angeles Lakers  22200064 2022-10-26    LAL @ DEN  L  ...   \n548   Los Angeles Lakers  22200076 2022-10-28    LAL @ MIN  L  ...   \n...                  ...       ...        ...          ... ..  ...   \n4800      Indiana Pacers  22201149 2023-03-31  IND vs. OKC  W  ...   \n4799      Indiana Pacers  22201173 2023-04-02    IND @ CLE  L  ...   \n4798      Indiana Pacers  22201190 2023-04-05  IND vs. NYK  L  ...   \n4797      Indiana Pacers  22201203 2023-04-07  IND vs. DET  L  ...   \n4796      Indiana Pacers  22201220 2023-04-09    IND @ NYK  W  ...   \n\n      FG_PCT_LAG  FGM_LAG  FGA_LAG  FG3M_LAG  FG3A_LAG  FG3_PCT_LAG  FTM_LAG  \\\n552          NaN      NaN      NaN       NaN       NaN          NaN      NaN   \n551        0.462     12.0     26.0       3.0      10.0        0.300      4.0   \n550        0.412      7.0     17.0       2.0       8.0        0.250      4.0   \n549        0.545     12.0     22.0       2.0       9.0        0.222      5.0   \n548        0.381      8.0     21.0       2.0       8.0        0.250      1.0   \n...          ...      ...      ...       ...       ...          ...      ...   \n4800       0.524     11.0     21.0       1.0       5.0        0.200      6.0   \n4799       0.625      5.0      8.0       1.0       3.0        0.333      4.0   \n4798       0.417      5.0     12.0       1.0       2.0        0.500      8.0   \n4797       0.353      6.0     17.0       1.0       3.0        0.333      4.0   \n4796       0.400      4.0     10.0       0.0       1.0        0.000      8.0   \n\n      FTA_LAG  FT_PCT_LAG  PLUS_MINUS_LAG  \n552       NaN         NaN             NaN  \n551       4.0       1.000           -10.0  \n550       6.0       0.667            -1.0  \n549       7.0       0.714             2.0  \n548       2.0       0.500            -7.0  \n...       ...         ...             ...  \n4800      9.0       0.667           -11.0  \n4799      5.0       0.800            -9.0  \n4798      8.0       1.000            -7.0  \n4797      6.0       0.667           -31.0  \n4796     10.0       0.800             4.0  \n\n[6581 rows x 67 columns]",
      "text/html": "<div>\n<style scoped>\n    .dataframe tbody tr th:only-of-type {\n        vertical-align: middle;\n    }\n\n    .dataframe tbody tr th {\n        vertical-align: top;\n    }\n\n    .dataframe thead th {\n        text-align: right;\n    }\n</style>\n<table border=\"1\" class=\"dataframe\">\n  <thead>\n    <tr style=\"text-align: right;\">\n      <th></th>\n      <th>SEASON_YEAR</th>\n      <th>PLAYER_ID</th>\n      <th>PLAYER_NAME</th>\n      <th>TEAM_ID</th>\n      <th>TEAM_ABBREVIATION</th>\n      <th>TEAM_NAME</th>\n      <th>GAME_ID</th>\n      <th>GAME_DATE</th>\n      <th>MATCHUP</th>\n      <th>WL</th>\n      <th>...</th>\n      <th>FG_PCT_LAG</th>\n      <th>FGM_LAG</th>\n      <th>FGA_LAG</th>\n      <th>FG3M_LAG</th>\n      <th>FG3A_LAG</th>\n      <th>FG3_PCT_LAG</th>\n      <th>FTM_LAG</th>\n      <th>FTA_LAG</th>\n      <th>FT_PCT_LAG</th>\n      <th>PLUS_MINUS_LAG</th>\n    </tr>\n  </thead>\n  <tbody>\n    <tr>\n      <th>552</th>\n      <td>2022-23</td>\n      <td>2544</td>\n      <td>LeBron James</td>\n      <td>1610612747</td>\n      <td>LAL</td>\n      <td>Los Angeles Lakers</td>\n      <td>22200002</td>\n      <td>2022-10-18</td>\n      <td>LAL @ GSW</td>\n      <td>L</td>\n      <td>...</td>\n      <td>NaN</td>\n      <td>NaN</td>\n      <td>NaN</td>\n      <td>NaN</td>\n      <td>NaN</td>\n      <td>NaN</td>\n      <td>NaN</td>\n      <td>NaN</td>\n      <td>NaN</td>\n      <td>NaN</td>\n    </tr>\n    <tr>\n      <th>551</th>\n      <td>2022-23</td>\n      <td>2544</td>\n      <td>LeBron James</td>\n      <td>1610612747</td>\n      <td>LAL</td>\n      <td>Los Angeles Lakers</td>\n      <td>22200016</td>\n      <td>2022-10-20</td>\n      <td>LAL vs. LAC</td>\n      <td>L</td>\n      <td>...</td>\n      <td>0.462</td>\n      <td>12.0</td>\n      <td>26.0</td>\n      <td>3.0</td>\n      <td>10.0</td>\n      <td>0.300</td>\n      <td>4.0</td>\n      <td>4.0</td>\n      <td>1.000</td>\n      <td>-10.0</td>\n    </tr>\n    <tr>\n      <th>550</th>\n      <td>2022-23</td>\n      <td>2544</td>\n      <td>LeBron James</td>\n      <td>1610612747</td>\n      <td>LAL</td>\n      <td>Los Angeles Lakers</td>\n      <td>22200037</td>\n      <td>2022-10-23</td>\n      <td>LAL vs. POR</td>\n      <td>L</td>\n      <td>...</td>\n      <td>0.412</td>\n      <td>7.0</td>\n      <td>17.0</td>\n      <td>2.0</td>\n      <td>8.0</td>\n      <td>0.250</td>\n      <td>4.0</td>\n      <td>6.0</td>\n      <td>0.667</td>\n      <td>-1.0</td>\n    </tr>\n    <tr>\n      <th>549</th>\n      <td>2022-23</td>\n      <td>2544</td>\n      <td>LeBron James</td>\n      <td>1610612747</td>\n      <td>LAL</td>\n      <td>Los Angeles Lakers</td>\n      <td>22200064</td>\n      <td>2022-10-26</td>\n      <td>LAL @ DEN</td>\n      <td>L</td>\n      <td>...</td>\n      <td>0.545</td>\n      <td>12.0</td>\n      <td>22.0</td>\n      <td>2.0</td>\n      <td>9.0</td>\n      <td>0.222</td>\n      <td>5.0</td>\n      <td>7.0</td>\n      <td>0.714</td>\n      <td>2.0</td>\n    </tr>\n    <tr>\n      <th>548</th>\n      <td>2022-23</td>\n      <td>2544</td>\n      <td>LeBron James</td>\n      <td>1610612747</td>\n      <td>LAL</td>\n      <td>Los Angeles Lakers</td>\n      <td>22200076</td>\n      <td>2022-10-28</td>\n      <td>LAL @ MIN</td>\n      <td>L</td>\n      <td>...</td>\n      <td>0.381</td>\n      <td>8.0</td>\n      <td>21.0</td>\n      <td>2.0</td>\n      <td>8.0</td>\n      <td>0.250</td>\n      <td>1.0</td>\n      <td>2.0</td>\n      <td>0.500</td>\n      <td>-7.0</td>\n    </tr>\n    <tr>\n      <th>...</th>\n      <td>...</td>\n      <td>...</td>\n      <td>...</td>\n      <td>...</td>\n      <td>...</td>\n      <td>...</td>\n      <td>...</td>\n      <td>...</td>\n      <td>...</td>\n      <td>...</td>\n      <td>...</td>\n      <td>...</td>\n      <td>...</td>\n      <td>...</td>\n      <td>...</td>\n      <td>...</td>\n      <td>...</td>\n      <td>...</td>\n      <td>...</td>\n      <td>...</td>\n      <td>...</td>\n    </tr>\n    <tr>\n      <th>4800</th>\n      <td>2022-23</td>\n      <td>1631097</td>\n      <td>Bennedict Mathurin</td>\n      <td>1610612754</td>\n      <td>IND</td>\n      <td>Indiana Pacers</td>\n      <td>22201149</td>\n      <td>2023-03-31</td>\n      <td>IND vs. OKC</td>\n      <td>W</td>\n      <td>...</td>\n      <td>0.524</td>\n      <td>11.0</td>\n      <td>21.0</td>\n      <td>1.0</td>\n      <td>5.0</td>\n      <td>0.200</td>\n      <td>6.0</td>\n      <td>9.0</td>\n      <td>0.667</td>\n      <td>-11.0</td>\n    </tr>\n    <tr>\n      <th>4799</th>\n      <td>2022-23</td>\n      <td>1631097</td>\n      <td>Bennedict Mathurin</td>\n      <td>1610612754</td>\n      <td>IND</td>\n      <td>Indiana Pacers</td>\n      <td>22201173</td>\n      <td>2023-04-02</td>\n      <td>IND @ CLE</td>\n      <td>L</td>\n      <td>...</td>\n      <td>0.625</td>\n      <td>5.0</td>\n      <td>8.0</td>\n      <td>1.0</td>\n      <td>3.0</td>\n      <td>0.333</td>\n      <td>4.0</td>\n      <td>5.0</td>\n      <td>0.800</td>\n      <td>-9.0</td>\n    </tr>\n    <tr>\n      <th>4798</th>\n      <td>2022-23</td>\n      <td>1631097</td>\n      <td>Bennedict Mathurin</td>\n      <td>1610612754</td>\n      <td>IND</td>\n      <td>Indiana Pacers</td>\n      <td>22201190</td>\n      <td>2023-04-05</td>\n      <td>IND vs. NYK</td>\n      <td>L</td>\n      <td>...</td>\n      <td>0.417</td>\n      <td>5.0</td>\n      <td>12.0</td>\n      <td>1.0</td>\n      <td>2.0</td>\n      <td>0.500</td>\n      <td>8.0</td>\n      <td>8.0</td>\n      <td>1.000</td>\n      <td>-7.0</td>\n    </tr>\n    <tr>\n      <th>4797</th>\n      <td>2022-23</td>\n      <td>1631097</td>\n      <td>Bennedict Mathurin</td>\n      <td>1610612754</td>\n      <td>IND</td>\n      <td>Indiana Pacers</td>\n      <td>22201203</td>\n      <td>2023-04-07</td>\n      <td>IND vs. DET</td>\n      <td>L</td>\n      <td>...</td>\n      <td>0.353</td>\n      <td>6.0</td>\n      <td>17.0</td>\n      <td>1.0</td>\n      <td>3.0</td>\n      <td>0.333</td>\n      <td>4.0</td>\n      <td>6.0</td>\n      <td>0.667</td>\n      <td>-31.0</td>\n    </tr>\n    <tr>\n      <th>4796</th>\n      <td>2022-23</td>\n      <td>1631097</td>\n      <td>Bennedict Mathurin</td>\n      <td>1610612754</td>\n      <td>IND</td>\n      <td>Indiana Pacers</td>\n      <td>22201220</td>\n      <td>2023-04-09</td>\n      <td>IND @ NYK</td>\n      <td>W</td>\n      <td>...</td>\n      <td>0.400</td>\n      <td>4.0</td>\n      <td>10.0</td>\n      <td>0.0</td>\n      <td>1.0</td>\n      <td>0.000</td>\n      <td>8.0</td>\n      <td>10.0</td>\n      <td>0.800</td>\n      <td>4.0</td>\n    </tr>\n  </tbody>\n</table>\n<p>6581 rows × 67 columns</p>\n</div>"
     },
     "execution_count": 7,
     "metadata": {},
     "output_type": "execute_result"
    }
   ],
   "source": [
    "logs[c.GAME_DATE] = pd.to_datetime(logs[c.GAME_DATE])\n",
    "logs = add_game_log_last_5(logs)\n",
    "logs = add_game_log_lag(logs)\n",
    "\n",
    "logs.sort_values(by=[c.GAME_DATE])\n",
    "logs"
   ],
   "metadata": {
    "collapsed": false,
    "ExecuteTime": {
     "end_time": "2024-03-02T03:11:24.219056Z",
     "start_time": "2024-03-02T03:11:24.184810Z"
    }
   },
   "id": "3a097cbad9cba275",
   "execution_count": 7
  },
  {
   "cell_type": "code",
   "outputs": [
    {
     "data": {
      "text/plain": "      PTS    MIN_LAG  PTS_LAG  REB_LAG  AST_LAG  STL_LAG  BLK_LAG  TOV_LAG  \\\n547    26  37.440000     28.0      7.0      5.0      4.0      0.0      3.0   \n546    20  34.703333     26.0      6.0      8.0      1.0      0.0      3.0   \n545    17  39.716667     20.0     10.0      8.0      0.0      2.0      2.0   \n544    27  34.163333     17.0     10.0      8.0      0.0      1.0      3.0   \n543    30  33.816667     27.0      7.0      4.0      0.0      0.0      1.0   \n...   ...        ...      ...      ...      ...      ...      ...      ...   \n4800   15  40.576667     29.0      9.0      2.0      2.0      0.0      0.0   \n4799   19  35.100000     15.0      4.0      0.0      0.0      0.0      1.0   \n4798   17  32.568333     19.0      9.0      0.0      0.0      2.0      4.0   \n4797   16  32.435000     17.0      8.0      4.0      0.0      0.0      6.0   \n4796   26  38.583333     16.0      4.0      3.0      2.0      0.0      5.0   \n\n      FG_PCT_LAG  FGM_LAG  ...  FG_PCT_LAST_5  FGM_LAST_5  FGA_LAST_5  \\\n547        0.417     10.0  ...         0.4434         9.8        22.0   \n546        0.455     10.0  ...         0.4420         9.4        21.2   \n545        0.391      9.0  ...         0.4378         9.8        22.4   \n544        0.368      7.0  ...         0.4024         8.8        21.8   \n543        0.565     13.0  ...         0.4392         9.8        22.2   \n...          ...      ...  ...            ...         ...         ...   \n4800       0.524     11.0  ...         0.4696         5.2        10.6   \n4799       0.625      5.0  ...         0.4746         5.6        11.2   \n4798       0.417      5.0  ...         0.5080         6.4        12.8   \n4797       0.353      6.0  ...         0.4786         7.2        15.4   \n4796       0.400      4.0  ...         0.4638         6.2        13.6   \n\n      FG3M_LAST_5  FG3A_LAST_5  FG3_PCT_LAST_5  FTM_LAST_5  FTA_LAST_5  \\\n547           2.0          8.2          0.2378         4.2         5.4   \n546           1.8          7.2          0.2578         4.2         5.6   \n545           1.4          7.0          0.2078         3.8         5.2   \n544           1.0          6.2          0.1634         3.4         4.8   \n543           0.8          5.4          0.1634         3.2         5.0   \n...           ...          ...             ...         ...         ...   \n4800          1.2          3.6          0.2900         3.6         4.4   \n4799          0.8          3.6          0.1566         3.2         4.2   \n4798          1.0          3.8          0.2566         4.8         5.8   \n4797          1.2          4.2          0.3232         5.6         7.0   \n4796          0.8          2.8          0.2732         6.0         7.6   \n\n      FT_PCT_LAST_5  PLUS_MINUS_LAST_5  \n547          0.7512               -5.8  \n546          0.7112               -4.0  \n545          0.6778               -2.8  \n544          0.6550               -5.4  \n543          0.5550               -5.6  \n...             ...                ...  \n4800         0.5048               -7.6  \n4799         0.4648              -10.6  \n4798         0.6648               -7.0  \n4797         0.7982              -11.2  \n4796         0.7868              -10.8  \n\n[6477 rows x 35 columns]",
      "text/html": "<div>\n<style scoped>\n    .dataframe tbody tr th:only-of-type {\n        vertical-align: middle;\n    }\n\n    .dataframe tbody tr th {\n        vertical-align: top;\n    }\n\n    .dataframe thead th {\n        text-align: right;\n    }\n</style>\n<table border=\"1\" class=\"dataframe\">\n  <thead>\n    <tr style=\"text-align: right;\">\n      <th></th>\n      <th>PTS</th>\n      <th>MIN_LAG</th>\n      <th>PTS_LAG</th>\n      <th>REB_LAG</th>\n      <th>AST_LAG</th>\n      <th>STL_LAG</th>\n      <th>BLK_LAG</th>\n      <th>TOV_LAG</th>\n      <th>FG_PCT_LAG</th>\n      <th>FGM_LAG</th>\n      <th>...</th>\n      <th>FG_PCT_LAST_5</th>\n      <th>FGM_LAST_5</th>\n      <th>FGA_LAST_5</th>\n      <th>FG3M_LAST_5</th>\n      <th>FG3A_LAST_5</th>\n      <th>FG3_PCT_LAST_5</th>\n      <th>FTM_LAST_5</th>\n      <th>FTA_LAST_5</th>\n      <th>FT_PCT_LAST_5</th>\n      <th>PLUS_MINUS_LAST_5</th>\n    </tr>\n  </thead>\n  <tbody>\n    <tr>\n      <th>547</th>\n      <td>26</td>\n      <td>37.440000</td>\n      <td>28.0</td>\n      <td>7.0</td>\n      <td>5.0</td>\n      <td>4.0</td>\n      <td>0.0</td>\n      <td>3.0</td>\n      <td>0.417</td>\n      <td>10.0</td>\n      <td>...</td>\n      <td>0.4434</td>\n      <td>9.8</td>\n      <td>22.0</td>\n      <td>2.0</td>\n      <td>8.2</td>\n      <td>0.2378</td>\n      <td>4.2</td>\n      <td>5.4</td>\n      <td>0.7512</td>\n      <td>-5.8</td>\n    </tr>\n    <tr>\n      <th>546</th>\n      <td>20</td>\n      <td>34.703333</td>\n      <td>26.0</td>\n      <td>6.0</td>\n      <td>8.0</td>\n      <td>1.0</td>\n      <td>0.0</td>\n      <td>3.0</td>\n      <td>0.455</td>\n      <td>10.0</td>\n      <td>...</td>\n      <td>0.4420</td>\n      <td>9.4</td>\n      <td>21.2</td>\n      <td>1.8</td>\n      <td>7.2</td>\n      <td>0.2578</td>\n      <td>4.2</td>\n      <td>5.6</td>\n      <td>0.7112</td>\n      <td>-4.0</td>\n    </tr>\n    <tr>\n      <th>545</th>\n      <td>17</td>\n      <td>39.716667</td>\n      <td>20.0</td>\n      <td>10.0</td>\n      <td>8.0</td>\n      <td>0.0</td>\n      <td>2.0</td>\n      <td>2.0</td>\n      <td>0.391</td>\n      <td>9.0</td>\n      <td>...</td>\n      <td>0.4378</td>\n      <td>9.8</td>\n      <td>22.4</td>\n      <td>1.4</td>\n      <td>7.0</td>\n      <td>0.2078</td>\n      <td>3.8</td>\n      <td>5.2</td>\n      <td>0.6778</td>\n      <td>-2.8</td>\n    </tr>\n    <tr>\n      <th>544</th>\n      <td>27</td>\n      <td>34.163333</td>\n      <td>17.0</td>\n      <td>10.0</td>\n      <td>8.0</td>\n      <td>0.0</td>\n      <td>1.0</td>\n      <td>3.0</td>\n      <td>0.368</td>\n      <td>7.0</td>\n      <td>...</td>\n      <td>0.4024</td>\n      <td>8.8</td>\n      <td>21.8</td>\n      <td>1.0</td>\n      <td>6.2</td>\n      <td>0.1634</td>\n      <td>3.4</td>\n      <td>4.8</td>\n      <td>0.6550</td>\n      <td>-5.4</td>\n    </tr>\n    <tr>\n      <th>543</th>\n      <td>30</td>\n      <td>33.816667</td>\n      <td>27.0</td>\n      <td>7.0</td>\n      <td>4.0</td>\n      <td>0.0</td>\n      <td>0.0</td>\n      <td>1.0</td>\n      <td>0.565</td>\n      <td>13.0</td>\n      <td>...</td>\n      <td>0.4392</td>\n      <td>9.8</td>\n      <td>22.2</td>\n      <td>0.8</td>\n      <td>5.4</td>\n      <td>0.1634</td>\n      <td>3.2</td>\n      <td>5.0</td>\n      <td>0.5550</td>\n      <td>-5.6</td>\n    </tr>\n    <tr>\n      <th>...</th>\n      <td>...</td>\n      <td>...</td>\n      <td>...</td>\n      <td>...</td>\n      <td>...</td>\n      <td>...</td>\n      <td>...</td>\n      <td>...</td>\n      <td>...</td>\n      <td>...</td>\n      <td>...</td>\n      <td>...</td>\n      <td>...</td>\n      <td>...</td>\n      <td>...</td>\n      <td>...</td>\n      <td>...</td>\n      <td>...</td>\n      <td>...</td>\n      <td>...</td>\n      <td>...</td>\n    </tr>\n    <tr>\n      <th>4800</th>\n      <td>15</td>\n      <td>40.576667</td>\n      <td>29.0</td>\n      <td>9.0</td>\n      <td>2.0</td>\n      <td>2.0</td>\n      <td>0.0</td>\n      <td>0.0</td>\n      <td>0.524</td>\n      <td>11.0</td>\n      <td>...</td>\n      <td>0.4696</td>\n      <td>5.2</td>\n      <td>10.6</td>\n      <td>1.2</td>\n      <td>3.6</td>\n      <td>0.2900</td>\n      <td>3.6</td>\n      <td>4.4</td>\n      <td>0.5048</td>\n      <td>-7.6</td>\n    </tr>\n    <tr>\n      <th>4799</th>\n      <td>19</td>\n      <td>35.100000</td>\n      <td>15.0</td>\n      <td>4.0</td>\n      <td>0.0</td>\n      <td>0.0</td>\n      <td>0.0</td>\n      <td>1.0</td>\n      <td>0.625</td>\n      <td>5.0</td>\n      <td>...</td>\n      <td>0.4746</td>\n      <td>5.6</td>\n      <td>11.2</td>\n      <td>0.8</td>\n      <td>3.6</td>\n      <td>0.1566</td>\n      <td>3.2</td>\n      <td>4.2</td>\n      <td>0.4648</td>\n      <td>-10.6</td>\n    </tr>\n    <tr>\n      <th>4798</th>\n      <td>17</td>\n      <td>32.568333</td>\n      <td>19.0</td>\n      <td>9.0</td>\n      <td>0.0</td>\n      <td>0.0</td>\n      <td>2.0</td>\n      <td>4.0</td>\n      <td>0.417</td>\n      <td>5.0</td>\n      <td>...</td>\n      <td>0.5080</td>\n      <td>6.4</td>\n      <td>12.8</td>\n      <td>1.0</td>\n      <td>3.8</td>\n      <td>0.2566</td>\n      <td>4.8</td>\n      <td>5.8</td>\n      <td>0.6648</td>\n      <td>-7.0</td>\n    </tr>\n    <tr>\n      <th>4797</th>\n      <td>16</td>\n      <td>32.435000</td>\n      <td>17.0</td>\n      <td>8.0</td>\n      <td>4.0</td>\n      <td>0.0</td>\n      <td>0.0</td>\n      <td>6.0</td>\n      <td>0.353</td>\n      <td>6.0</td>\n      <td>...</td>\n      <td>0.4786</td>\n      <td>7.2</td>\n      <td>15.4</td>\n      <td>1.2</td>\n      <td>4.2</td>\n      <td>0.3232</td>\n      <td>5.6</td>\n      <td>7.0</td>\n      <td>0.7982</td>\n      <td>-11.2</td>\n    </tr>\n    <tr>\n      <th>4796</th>\n      <td>26</td>\n      <td>38.583333</td>\n      <td>16.0</td>\n      <td>4.0</td>\n      <td>3.0</td>\n      <td>2.0</td>\n      <td>0.0</td>\n      <td>5.0</td>\n      <td>0.400</td>\n      <td>4.0</td>\n      <td>...</td>\n      <td>0.4638</td>\n      <td>6.2</td>\n      <td>13.6</td>\n      <td>0.8</td>\n      <td>2.8</td>\n      <td>0.2732</td>\n      <td>6.0</td>\n      <td>7.6</td>\n      <td>0.7868</td>\n      <td>-10.8</td>\n    </tr>\n  </tbody>\n</table>\n<p>6477 rows × 35 columns</p>\n</div>"
     },
     "execution_count": 8,
     "metadata": {},
     "output_type": "execute_result"
    }
   ],
   "source": [
    "# Preprocess Data\n",
    "PTS_PREDICTION_MASK = [c.PTS] + c.GAME_LOG_LAG_MASK + c.GAME_LOG_LAST_5_MASK\n",
    "logs = logs[PTS_PREDICTION_MASK]\n",
    "\n",
    "cats = logs.select_dtypes(exclude=np.number).columns.tolist()\n",
    "for col in cats:\n",
    "    logs[col] = logs[col].astype('category')\n",
    "\n",
    "logs = logs.dropna()\n",
    "logs"
   ],
   "metadata": {
    "collapsed": false,
    "ExecuteTime": {
     "end_time": "2024-03-02T03:11:24.259817Z",
     "start_time": "2024-03-02T03:11:24.213406Z"
    }
   },
   "id": "4c85bf78dcce0edd",
   "execution_count": 8
  },
  {
   "cell_type": "code",
   "outputs": [],
   "source": [
    "params = {\n",
    "    'objective': 'reg:squarederror',\n",
    "    'eval_metric': 'rmse',\n",
    "    'n_estimators': 1000\n",
    "}"
   ],
   "metadata": {
    "collapsed": false,
    "ExecuteTime": {
     "end_time": "2024-03-02T03:11:24.260018Z",
     "start_time": "2024-03-02T03:11:24.225833Z"
    }
   },
   "id": "72854ab1fe97f50f",
   "execution_count": 9
  },
  {
   "cell_type": "code",
   "outputs": [],
   "source": [
    "ts_modeler = TimeSeriesModeler(XGBRegressor())\n",
    "ts_modeler.boruta_feature_selection(params, logs, c.PTS)"
   ],
   "metadata": {
    "collapsed": false,
    "ExecuteTime": {
     "end_time": "2024-03-02T03:11:24.260109Z",
     "start_time": "2024-03-02T03:11:24.228381Z"
    }
   },
   "id": "715fa938c0ae5f9f",
   "execution_count": 10
  },
  {
   "cell_type": "code",
   "outputs": [
    {
     "name": "stdout",
     "output_type": "stream",
     "text": [
      "Final Features confirmed as important: [['PTS_LAST_5', 'FGA_LAST_5', 'FTA_LAST_5'], ['PTS_LAST_5', 'FGA_LAST_5', 'FTA_LAST_5'], ['PTS_LAST_5', 'FGA_LAST_5', 'FTM_LAST_5', 'FTA_LAST_5'], ['PTS_LAST_5', 'FGA_LAST_5', 'FTM_LAST_5', 'FTA_LAST_5'], ['PTS_LAST_5', 'TOV_LAST_5', 'FGA_LAST_5', 'FTM_LAST_5', 'FTA_LAST_5']]\n"
     ]
    }
   ],
   "source": [],
   "metadata": {
    "collapsed": false,
    "ExecuteTime": {
     "end_time": "2024-03-02T03:11:38.426737Z",
     "start_time": "2024-03-02T03:11:24.230944Z"
    }
   },
   "id": "ae4d39cdb765abac",
   "execution_count": 11
  }
 ],
 "metadata": {
  "kernelspec": {
   "display_name": "Python 3",
   "language": "python",
   "name": "python3"
  },
  "language_info": {
   "codemirror_mode": {
    "name": "ipython",
    "version": 2
   },
   "file_extension": ".py",
   "mimetype": "text/x-python",
   "name": "python",
   "nbconvert_exporter": "python",
   "pygments_lexer": "ipython2",
   "version": "2.7.6"
  }
 },
 "nbformat": 4,
 "nbformat_minor": 5
}
