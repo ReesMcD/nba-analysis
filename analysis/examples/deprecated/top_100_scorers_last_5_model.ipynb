{
 "cells": [
  {
   "cell_type": "code",
   "execution_count": 1,
   "id": "initial_id",
   "metadata": {
    "collapsed": true,
    "ExecuteTime": {
     "end_time": "2024-03-02T02:52:00.339070Z",
     "start_time": "2024-03-02T02:51:57.865302Z"
    }
   },
   "outputs": [
    {
     "data": {
      "text/plain": "'/Users/rmcdevi2/Projects/personal/nba-analysis/'"
     },
     "execution_count": 1,
     "metadata": {},
     "output_type": "execute_result"
    }
   ],
   "source": [
    "import warnings\n",
    "\n",
    "warnings.filterwarnings('ignore')\n",
    "\n",
    "import os\n",
    "ROOT_DIR = os.getcwd()[:-28] # verify this points to the root directory of the project\n",
    "\n",
    "from tools.modeling.deprecated.timeserieshyperparamtuner import TimeSeriesHyperParamTuner\n",
    "from tools.modeling.deprecated.timeseriesmodeler import TimeSeriesModeler\n",
    "\n",
    "\n",
    "from nba.common import add_game_log_lag, add_game_log_last_5\n",
    "import nba.constants as c\n",
    "\n",
    "from xgboost import XGBRegressor\n",
    "from hyperopt import hp\n",
    "\n",
    "import numpy as np\n",
    "import pandas as pd\n",
    "\n",
    "import shap\n",
    "\n",
    "\n",
    "\n",
    "season = c.SEASON_2022_2023\n",
    "\n",
    "ROOT_DIR"
   ]
  },
  {
   "cell_type": "markdown",
   "source": [],
   "metadata": {
    "collapsed": false
   },
   "id": "a54a197c8f4fc308"
  },
  {
   "cell_type": "code",
   "outputs": [
    {
     "data": {
      "text/plain": "     SEASON_YEAR  PLAYER_ID    PLAYER_NAME     TEAM_ID TEAM_ABBREVIATION  \\\n0        2022-23     203954    Joel Embiid  1610612755               PHI   \n1        2022-23     203954    Joel Embiid  1610612755               PHI   \n2        2022-23     203954    Joel Embiid  1610612755               PHI   \n3        2022-23     203954    Joel Embiid  1610612755               PHI   \n4        2022-23     203954    Joel Embiid  1610612755               PHI   \n...          ...        ...            ...         ...               ...   \n6576     2022-23    1628386  Jarrett Allen  1610612739               CLE   \n6577     2022-23    1628386  Jarrett Allen  1610612739               CLE   \n6578     2022-23    1628386  Jarrett Allen  1610612739               CLE   \n6579     2022-23    1628386  Jarrett Allen  1610612739               CLE   \n6580     2022-23    1628386  Jarrett Allen  1610612739               CLE   \n\n                TEAM_NAME   GAME_ID   GAME_DATE      MATCHUP WL  ...  AST  \\\n0      Philadelphia 76ers  22201198  2023-04-06  PHI vs. MIA  L  ...    2   \n1      Philadelphia 76ers  22201181  2023-04-04  PHI vs. BOS  W  ...    6   \n2      Philadelphia 76ers  22201174  2023-04-02    PHI @ MIL  L  ...    5   \n3      Philadelphia 76ers  22201150  2023-03-31  PHI vs. TOR  W  ...    1   \n4      Philadelphia 76ers  22201139  2023-03-29  PHI vs. DAL  W  ...    3   \n...                   ...       ...         ...          ... ..  ...  ...   \n6576  Cleveland Cavaliers  22200072  2022-10-28    CLE @ BOS  W  ...    2   \n6577  Cleveland Cavaliers  22200056  2022-10-26  CLE vs. ORL  W  ...    1   \n6578  Cleveland Cavaliers  22200039  2022-10-23  CLE vs. WAS  W  ...    3   \n6579  Cleveland Cavaliers  22200032  2022-10-22    CLE @ CHI  W  ...    2   \n6580  Cleveland Cavaliers  22200008  2022-10-19    CLE @ TOR  L  ...    0   \n\n      TOV  STL  BLK  BLKA  PF  PFD  PTS  PLUS_MINUS   SEASON  \n0       2    0    2     0   1    4   21         -11  2022-23  \n1       3    0    2     1   3    9   52          17  2022-23  \n2       1    0    0     1   4    4   28         -10  2022-23  \n3       5    0    1     0   3    6   25           0  2022-23  \n4       4    1    1     1   4    6   25          10  2022-23  \n...   ...  ...  ...   ...  ..  ...  ...         ...      ...  \n6576    0    0    0     0   2    2   12          25  2022-23  \n6577    1    1    1     0   5    5   18          11  2022-23  \n6578    0    0    2     1   2    4   15          -1  2022-23  \n6579    2    0    1     0   2    3    8           5  2022-23  \n6580    1    0    2     1   2    5   13           2  2022-23  \n\n[6581 rows x 33 columns]",
      "text/html": "<div>\n<style scoped>\n    .dataframe tbody tr th:only-of-type {\n        vertical-align: middle;\n    }\n\n    .dataframe tbody tr th {\n        vertical-align: top;\n    }\n\n    .dataframe thead th {\n        text-align: right;\n    }\n</style>\n<table border=\"1\" class=\"dataframe\">\n  <thead>\n    <tr style=\"text-align: right;\">\n      <th></th>\n      <th>SEASON_YEAR</th>\n      <th>PLAYER_ID</th>\n      <th>PLAYER_NAME</th>\n      <th>TEAM_ID</th>\n      <th>TEAM_ABBREVIATION</th>\n      <th>TEAM_NAME</th>\n      <th>GAME_ID</th>\n      <th>GAME_DATE</th>\n      <th>MATCHUP</th>\n      <th>WL</th>\n      <th>...</th>\n      <th>AST</th>\n      <th>TOV</th>\n      <th>STL</th>\n      <th>BLK</th>\n      <th>BLKA</th>\n      <th>PF</th>\n      <th>PFD</th>\n      <th>PTS</th>\n      <th>PLUS_MINUS</th>\n      <th>SEASON</th>\n    </tr>\n  </thead>\n  <tbody>\n    <tr>\n      <th>0</th>\n      <td>2022-23</td>\n      <td>203954</td>\n      <td>Joel Embiid</td>\n      <td>1610612755</td>\n      <td>PHI</td>\n      <td>Philadelphia 76ers</td>\n      <td>22201198</td>\n      <td>2023-04-06</td>\n      <td>PHI vs. MIA</td>\n      <td>L</td>\n      <td>...</td>\n      <td>2</td>\n      <td>2</td>\n      <td>0</td>\n      <td>2</td>\n      <td>0</td>\n      <td>1</td>\n      <td>4</td>\n      <td>21</td>\n      <td>-11</td>\n      <td>2022-23</td>\n    </tr>\n    <tr>\n      <th>1</th>\n      <td>2022-23</td>\n      <td>203954</td>\n      <td>Joel Embiid</td>\n      <td>1610612755</td>\n      <td>PHI</td>\n      <td>Philadelphia 76ers</td>\n      <td>22201181</td>\n      <td>2023-04-04</td>\n      <td>PHI vs. BOS</td>\n      <td>W</td>\n      <td>...</td>\n      <td>6</td>\n      <td>3</td>\n      <td>0</td>\n      <td>2</td>\n      <td>1</td>\n      <td>3</td>\n      <td>9</td>\n      <td>52</td>\n      <td>17</td>\n      <td>2022-23</td>\n    </tr>\n    <tr>\n      <th>2</th>\n      <td>2022-23</td>\n      <td>203954</td>\n      <td>Joel Embiid</td>\n      <td>1610612755</td>\n      <td>PHI</td>\n      <td>Philadelphia 76ers</td>\n      <td>22201174</td>\n      <td>2023-04-02</td>\n      <td>PHI @ MIL</td>\n      <td>L</td>\n      <td>...</td>\n      <td>5</td>\n      <td>1</td>\n      <td>0</td>\n      <td>0</td>\n      <td>1</td>\n      <td>4</td>\n      <td>4</td>\n      <td>28</td>\n      <td>-10</td>\n      <td>2022-23</td>\n    </tr>\n    <tr>\n      <th>3</th>\n      <td>2022-23</td>\n      <td>203954</td>\n      <td>Joel Embiid</td>\n      <td>1610612755</td>\n      <td>PHI</td>\n      <td>Philadelphia 76ers</td>\n      <td>22201150</td>\n      <td>2023-03-31</td>\n      <td>PHI vs. TOR</td>\n      <td>W</td>\n      <td>...</td>\n      <td>1</td>\n      <td>5</td>\n      <td>0</td>\n      <td>1</td>\n      <td>0</td>\n      <td>3</td>\n      <td>6</td>\n      <td>25</td>\n      <td>0</td>\n      <td>2022-23</td>\n    </tr>\n    <tr>\n      <th>4</th>\n      <td>2022-23</td>\n      <td>203954</td>\n      <td>Joel Embiid</td>\n      <td>1610612755</td>\n      <td>PHI</td>\n      <td>Philadelphia 76ers</td>\n      <td>22201139</td>\n      <td>2023-03-29</td>\n      <td>PHI vs. DAL</td>\n      <td>W</td>\n      <td>...</td>\n      <td>3</td>\n      <td>4</td>\n      <td>1</td>\n      <td>1</td>\n      <td>1</td>\n      <td>4</td>\n      <td>6</td>\n      <td>25</td>\n      <td>10</td>\n      <td>2022-23</td>\n    </tr>\n    <tr>\n      <th>...</th>\n      <td>...</td>\n      <td>...</td>\n      <td>...</td>\n      <td>...</td>\n      <td>...</td>\n      <td>...</td>\n      <td>...</td>\n      <td>...</td>\n      <td>...</td>\n      <td>...</td>\n      <td>...</td>\n      <td>...</td>\n      <td>...</td>\n      <td>...</td>\n      <td>...</td>\n      <td>...</td>\n      <td>...</td>\n      <td>...</td>\n      <td>...</td>\n      <td>...</td>\n      <td>...</td>\n    </tr>\n    <tr>\n      <th>6576</th>\n      <td>2022-23</td>\n      <td>1628386</td>\n      <td>Jarrett Allen</td>\n      <td>1610612739</td>\n      <td>CLE</td>\n      <td>Cleveland Cavaliers</td>\n      <td>22200072</td>\n      <td>2022-10-28</td>\n      <td>CLE @ BOS</td>\n      <td>W</td>\n      <td>...</td>\n      <td>2</td>\n      <td>0</td>\n      <td>0</td>\n      <td>0</td>\n      <td>0</td>\n      <td>2</td>\n      <td>2</td>\n      <td>12</td>\n      <td>25</td>\n      <td>2022-23</td>\n    </tr>\n    <tr>\n      <th>6577</th>\n      <td>2022-23</td>\n      <td>1628386</td>\n      <td>Jarrett Allen</td>\n      <td>1610612739</td>\n      <td>CLE</td>\n      <td>Cleveland Cavaliers</td>\n      <td>22200056</td>\n      <td>2022-10-26</td>\n      <td>CLE vs. ORL</td>\n      <td>W</td>\n      <td>...</td>\n      <td>1</td>\n      <td>1</td>\n      <td>1</td>\n      <td>1</td>\n      <td>0</td>\n      <td>5</td>\n      <td>5</td>\n      <td>18</td>\n      <td>11</td>\n      <td>2022-23</td>\n    </tr>\n    <tr>\n      <th>6578</th>\n      <td>2022-23</td>\n      <td>1628386</td>\n      <td>Jarrett Allen</td>\n      <td>1610612739</td>\n      <td>CLE</td>\n      <td>Cleveland Cavaliers</td>\n      <td>22200039</td>\n      <td>2022-10-23</td>\n      <td>CLE vs. WAS</td>\n      <td>W</td>\n      <td>...</td>\n      <td>3</td>\n      <td>0</td>\n      <td>0</td>\n      <td>2</td>\n      <td>1</td>\n      <td>2</td>\n      <td>4</td>\n      <td>15</td>\n      <td>-1</td>\n      <td>2022-23</td>\n    </tr>\n    <tr>\n      <th>6579</th>\n      <td>2022-23</td>\n      <td>1628386</td>\n      <td>Jarrett Allen</td>\n      <td>1610612739</td>\n      <td>CLE</td>\n      <td>Cleveland Cavaliers</td>\n      <td>22200032</td>\n      <td>2022-10-22</td>\n      <td>CLE @ CHI</td>\n      <td>W</td>\n      <td>...</td>\n      <td>2</td>\n      <td>2</td>\n      <td>0</td>\n      <td>1</td>\n      <td>0</td>\n      <td>2</td>\n      <td>3</td>\n      <td>8</td>\n      <td>5</td>\n      <td>2022-23</td>\n    </tr>\n    <tr>\n      <th>6580</th>\n      <td>2022-23</td>\n      <td>1628386</td>\n      <td>Jarrett Allen</td>\n      <td>1610612739</td>\n      <td>CLE</td>\n      <td>Cleveland Cavaliers</td>\n      <td>22200008</td>\n      <td>2022-10-19</td>\n      <td>CLE @ TOR</td>\n      <td>L</td>\n      <td>...</td>\n      <td>0</td>\n      <td>1</td>\n      <td>0</td>\n      <td>2</td>\n      <td>1</td>\n      <td>2</td>\n      <td>5</td>\n      <td>13</td>\n      <td>2</td>\n      <td>2022-23</td>\n    </tr>\n  </tbody>\n</table>\n<p>6581 rows × 33 columns</p>\n</div>"
     },
     "execution_count": 2,
     "metadata": {},
     "output_type": "execute_result"
    }
   ],
   "source": [
    "logs = pd.read_csv(ROOT_DIR + '/data/game_logs/{season}/top_100_scorers_{season}_game_log.csv'.format(season=season))\n",
    "logs"
   ],
   "metadata": {
    "collapsed": false,
    "ExecuteTime": {
     "end_time": "2024-03-01T21:54:25.350090Z",
     "start_time": "2024-03-01T21:54:25.291250Z"
    }
   },
   "id": "6c27da1bbf3d923f",
   "execution_count": 2
  },
  {
   "cell_type": "code",
   "outputs": [
    {
     "data": {
      "text/plain": "     SEASON_YEAR  PLAYER_ID         PLAYER_NAME     TEAM_ID TEAM_ABBREVIATION  \\\n552      2022-23       2544        LeBron James  1610612747               LAL   \n551      2022-23       2544        LeBron James  1610612747               LAL   \n550      2022-23       2544        LeBron James  1610612747               LAL   \n549      2022-23       2544        LeBron James  1610612747               LAL   \n548      2022-23       2544        LeBron James  1610612747               LAL   \n...          ...        ...                 ...         ...               ...   \n4800     2022-23    1631097  Bennedict Mathurin  1610612754               IND   \n4799     2022-23    1631097  Bennedict Mathurin  1610612754               IND   \n4798     2022-23    1631097  Bennedict Mathurin  1610612754               IND   \n4797     2022-23    1631097  Bennedict Mathurin  1610612754               IND   \n4796     2022-23    1631097  Bennedict Mathurin  1610612754               IND   \n\n               TEAM_NAME   GAME_ID  GAME_DATE      MATCHUP WL  ...  \\\n552   Los Angeles Lakers  22200002 2022-10-18    LAL @ GSW  L  ...   \n551   Los Angeles Lakers  22200016 2022-10-20  LAL vs. LAC  L  ...   \n550   Los Angeles Lakers  22200037 2022-10-23  LAL vs. POR  L  ...   \n549   Los Angeles Lakers  22200064 2022-10-26    LAL @ DEN  L  ...   \n548   Los Angeles Lakers  22200076 2022-10-28    LAL @ MIN  L  ...   \n...                  ...       ...        ...          ... ..  ...   \n4800      Indiana Pacers  22201149 2023-03-31  IND vs. OKC  W  ...   \n4799      Indiana Pacers  22201173 2023-04-02    IND @ CLE  L  ...   \n4798      Indiana Pacers  22201190 2023-04-05  IND vs. NYK  L  ...   \n4797      Indiana Pacers  22201203 2023-04-07  IND vs. DET  L  ...   \n4796      Indiana Pacers  22201220 2023-04-09    IND @ NYK  W  ...   \n\n      FG_PCT_LAG  FGM_LAG  FGA_LAG  FG3M_LAG  FG3A_LAG  FG3_PCT_LAG  FTM_LAG  \\\n552          NaN      NaN      NaN       NaN       NaN          NaN      NaN   \n551        0.462     12.0     26.0       3.0      10.0        0.300      4.0   \n550        0.412      7.0     17.0       2.0       8.0        0.250      4.0   \n549        0.545     12.0     22.0       2.0       9.0        0.222      5.0   \n548        0.381      8.0     21.0       2.0       8.0        0.250      1.0   \n...          ...      ...      ...       ...       ...          ...      ...   \n4800       0.524     11.0     21.0       1.0       5.0        0.200      6.0   \n4799       0.625      5.0      8.0       1.0       3.0        0.333      4.0   \n4798       0.417      5.0     12.0       1.0       2.0        0.500      8.0   \n4797       0.353      6.0     17.0       1.0       3.0        0.333      4.0   \n4796       0.400      4.0     10.0       0.0       1.0        0.000      8.0   \n\n      FTA_LAG  FT_PCT_LAG  PLUS_MINUS_LAG  \n552       NaN         NaN             NaN  \n551       4.0       1.000           -10.0  \n550       6.0       0.667            -1.0  \n549       7.0       0.714             2.0  \n548       2.0       0.500            -7.0  \n...       ...         ...             ...  \n4800      9.0       0.667           -11.0  \n4799      5.0       0.800            -9.0  \n4798      8.0       1.000            -7.0  \n4797      6.0       0.667           -31.0  \n4796     10.0       0.800             4.0  \n\n[6581 rows x 67 columns]",
      "text/html": "<div>\n<style scoped>\n    .dataframe tbody tr th:only-of-type {\n        vertical-align: middle;\n    }\n\n    .dataframe tbody tr th {\n        vertical-align: top;\n    }\n\n    .dataframe thead th {\n        text-align: right;\n    }\n</style>\n<table border=\"1\" class=\"dataframe\">\n  <thead>\n    <tr style=\"text-align: right;\">\n      <th></th>\n      <th>SEASON_YEAR</th>\n      <th>PLAYER_ID</th>\n      <th>PLAYER_NAME</th>\n      <th>TEAM_ID</th>\n      <th>TEAM_ABBREVIATION</th>\n      <th>TEAM_NAME</th>\n      <th>GAME_ID</th>\n      <th>GAME_DATE</th>\n      <th>MATCHUP</th>\n      <th>WL</th>\n      <th>...</th>\n      <th>FG_PCT_LAG</th>\n      <th>FGM_LAG</th>\n      <th>FGA_LAG</th>\n      <th>FG3M_LAG</th>\n      <th>FG3A_LAG</th>\n      <th>FG3_PCT_LAG</th>\n      <th>FTM_LAG</th>\n      <th>FTA_LAG</th>\n      <th>FT_PCT_LAG</th>\n      <th>PLUS_MINUS_LAG</th>\n    </tr>\n  </thead>\n  <tbody>\n    <tr>\n      <th>552</th>\n      <td>2022-23</td>\n      <td>2544</td>\n      <td>LeBron James</td>\n      <td>1610612747</td>\n      <td>LAL</td>\n      <td>Los Angeles Lakers</td>\n      <td>22200002</td>\n      <td>2022-10-18</td>\n      <td>LAL @ GSW</td>\n      <td>L</td>\n      <td>...</td>\n      <td>NaN</td>\n      <td>NaN</td>\n      <td>NaN</td>\n      <td>NaN</td>\n      <td>NaN</td>\n      <td>NaN</td>\n      <td>NaN</td>\n      <td>NaN</td>\n      <td>NaN</td>\n      <td>NaN</td>\n    </tr>\n    <tr>\n      <th>551</th>\n      <td>2022-23</td>\n      <td>2544</td>\n      <td>LeBron James</td>\n      <td>1610612747</td>\n      <td>LAL</td>\n      <td>Los Angeles Lakers</td>\n      <td>22200016</td>\n      <td>2022-10-20</td>\n      <td>LAL vs. LAC</td>\n      <td>L</td>\n      <td>...</td>\n      <td>0.462</td>\n      <td>12.0</td>\n      <td>26.0</td>\n      <td>3.0</td>\n      <td>10.0</td>\n      <td>0.300</td>\n      <td>4.0</td>\n      <td>4.0</td>\n      <td>1.000</td>\n      <td>-10.0</td>\n    </tr>\n    <tr>\n      <th>550</th>\n      <td>2022-23</td>\n      <td>2544</td>\n      <td>LeBron James</td>\n      <td>1610612747</td>\n      <td>LAL</td>\n      <td>Los Angeles Lakers</td>\n      <td>22200037</td>\n      <td>2022-10-23</td>\n      <td>LAL vs. POR</td>\n      <td>L</td>\n      <td>...</td>\n      <td>0.412</td>\n      <td>7.0</td>\n      <td>17.0</td>\n      <td>2.0</td>\n      <td>8.0</td>\n      <td>0.250</td>\n      <td>4.0</td>\n      <td>6.0</td>\n      <td>0.667</td>\n      <td>-1.0</td>\n    </tr>\n    <tr>\n      <th>549</th>\n      <td>2022-23</td>\n      <td>2544</td>\n      <td>LeBron James</td>\n      <td>1610612747</td>\n      <td>LAL</td>\n      <td>Los Angeles Lakers</td>\n      <td>22200064</td>\n      <td>2022-10-26</td>\n      <td>LAL @ DEN</td>\n      <td>L</td>\n      <td>...</td>\n      <td>0.545</td>\n      <td>12.0</td>\n      <td>22.0</td>\n      <td>2.0</td>\n      <td>9.0</td>\n      <td>0.222</td>\n      <td>5.0</td>\n      <td>7.0</td>\n      <td>0.714</td>\n      <td>2.0</td>\n    </tr>\n    <tr>\n      <th>548</th>\n      <td>2022-23</td>\n      <td>2544</td>\n      <td>LeBron James</td>\n      <td>1610612747</td>\n      <td>LAL</td>\n      <td>Los Angeles Lakers</td>\n      <td>22200076</td>\n      <td>2022-10-28</td>\n      <td>LAL @ MIN</td>\n      <td>L</td>\n      <td>...</td>\n      <td>0.381</td>\n      <td>8.0</td>\n      <td>21.0</td>\n      <td>2.0</td>\n      <td>8.0</td>\n      <td>0.250</td>\n      <td>1.0</td>\n      <td>2.0</td>\n      <td>0.500</td>\n      <td>-7.0</td>\n    </tr>\n    <tr>\n      <th>...</th>\n      <td>...</td>\n      <td>...</td>\n      <td>...</td>\n      <td>...</td>\n      <td>...</td>\n      <td>...</td>\n      <td>...</td>\n      <td>...</td>\n      <td>...</td>\n      <td>...</td>\n      <td>...</td>\n      <td>...</td>\n      <td>...</td>\n      <td>...</td>\n      <td>...</td>\n      <td>...</td>\n      <td>...</td>\n      <td>...</td>\n      <td>...</td>\n      <td>...</td>\n      <td>...</td>\n    </tr>\n    <tr>\n      <th>4800</th>\n      <td>2022-23</td>\n      <td>1631097</td>\n      <td>Bennedict Mathurin</td>\n      <td>1610612754</td>\n      <td>IND</td>\n      <td>Indiana Pacers</td>\n      <td>22201149</td>\n      <td>2023-03-31</td>\n      <td>IND vs. OKC</td>\n      <td>W</td>\n      <td>...</td>\n      <td>0.524</td>\n      <td>11.0</td>\n      <td>21.0</td>\n      <td>1.0</td>\n      <td>5.0</td>\n      <td>0.200</td>\n      <td>6.0</td>\n      <td>9.0</td>\n      <td>0.667</td>\n      <td>-11.0</td>\n    </tr>\n    <tr>\n      <th>4799</th>\n      <td>2022-23</td>\n      <td>1631097</td>\n      <td>Bennedict Mathurin</td>\n      <td>1610612754</td>\n      <td>IND</td>\n      <td>Indiana Pacers</td>\n      <td>22201173</td>\n      <td>2023-04-02</td>\n      <td>IND @ CLE</td>\n      <td>L</td>\n      <td>...</td>\n      <td>0.625</td>\n      <td>5.0</td>\n      <td>8.0</td>\n      <td>1.0</td>\n      <td>3.0</td>\n      <td>0.333</td>\n      <td>4.0</td>\n      <td>5.0</td>\n      <td>0.800</td>\n      <td>-9.0</td>\n    </tr>\n    <tr>\n      <th>4798</th>\n      <td>2022-23</td>\n      <td>1631097</td>\n      <td>Bennedict Mathurin</td>\n      <td>1610612754</td>\n      <td>IND</td>\n      <td>Indiana Pacers</td>\n      <td>22201190</td>\n      <td>2023-04-05</td>\n      <td>IND vs. NYK</td>\n      <td>L</td>\n      <td>...</td>\n      <td>0.417</td>\n      <td>5.0</td>\n      <td>12.0</td>\n      <td>1.0</td>\n      <td>2.0</td>\n      <td>0.500</td>\n      <td>8.0</td>\n      <td>8.0</td>\n      <td>1.000</td>\n      <td>-7.0</td>\n    </tr>\n    <tr>\n      <th>4797</th>\n      <td>2022-23</td>\n      <td>1631097</td>\n      <td>Bennedict Mathurin</td>\n      <td>1610612754</td>\n      <td>IND</td>\n      <td>Indiana Pacers</td>\n      <td>22201203</td>\n      <td>2023-04-07</td>\n      <td>IND vs. DET</td>\n      <td>L</td>\n      <td>...</td>\n      <td>0.353</td>\n      <td>6.0</td>\n      <td>17.0</td>\n      <td>1.0</td>\n      <td>3.0</td>\n      <td>0.333</td>\n      <td>4.0</td>\n      <td>6.0</td>\n      <td>0.667</td>\n      <td>-31.0</td>\n    </tr>\n    <tr>\n      <th>4796</th>\n      <td>2022-23</td>\n      <td>1631097</td>\n      <td>Bennedict Mathurin</td>\n      <td>1610612754</td>\n      <td>IND</td>\n      <td>Indiana Pacers</td>\n      <td>22201220</td>\n      <td>2023-04-09</td>\n      <td>IND @ NYK</td>\n      <td>W</td>\n      <td>...</td>\n      <td>0.400</td>\n      <td>4.0</td>\n      <td>10.0</td>\n      <td>0.0</td>\n      <td>1.0</td>\n      <td>0.000</td>\n      <td>8.0</td>\n      <td>10.0</td>\n      <td>0.800</td>\n      <td>4.0</td>\n    </tr>\n  </tbody>\n</table>\n<p>6581 rows × 67 columns</p>\n</div>"
     },
     "execution_count": 3,
     "metadata": {},
     "output_type": "execute_result"
    }
   ],
   "source": [
    "logs[c.GAME_DATE] = pd.to_datetime(logs[c.GAME_DATE])\n",
    "logs = add_game_log_last_5(logs)\n",
    "logs = add_game_log_lag(logs)\n",
    "\n",
    "logs.sort_values(by=[c.GAME_DATE])\n",
    "logs"
   ],
   "metadata": {
    "collapsed": false,
    "ExecuteTime": {
     "end_time": "2024-03-01T21:54:25.380616Z",
     "start_time": "2024-03-01T21:54:25.349079Z"
    }
   },
   "id": "11f727da21cf9627",
   "execution_count": 3
  },
  {
   "cell_type": "code",
   "outputs": [],
   "source": [
    "# Preprocess Data\n",
    "PTS_PREDICTION_MASK = [c.PTS] + c.GAME_LOG_LAG_MASK + c.GAME_LOG_LAST_5_MASK\n",
    "logs = logs[PTS_PREDICTION_MASK]\n",
    "logs = logs.dropna()\n",
    "\n",
    "cats = logs.select_dtypes(exclude=np.number).columns.tolist()\n",
    "for col in cats:\n",
    "    logs[col] = logs[col].astype('category')"
   ],
   "metadata": {
    "collapsed": false,
    "ExecuteTime": {
     "end_time": "2024-03-01T21:54:25.386921Z",
     "start_time": "2024-03-01T21:54:25.374924Z"
    }
   },
   "id": "4d66906cfc5bc4fd",
   "execution_count": 4
  },
  {
   "cell_type": "code",
   "outputs": [],
   "source": [
    "rmse = {\n",
    "    'base_model': 0,\n",
    "    'tuned_model': 0,\n",
    "}\n",
    "\n",
    "params = {\n",
    "    'objective': 'reg:squarederror',\n",
    "    'eval_metric': 'rmse',\n",
    "    'n_estimators': 1000\n",
    "}"
   ],
   "metadata": {
    "collapsed": false,
    "ExecuteTime": {
     "end_time": "2024-03-01T21:54:25.387440Z",
     "start_time": "2024-03-01T21:54:25.380325Z"
    }
   },
   "id": "11a7350ec30b1907",
   "execution_count": 5
  },
  {
   "cell_type": "code",
   "outputs": [
    {
     "name": "stdout",
     "output_type": "stream",
     "text": [
      "[0]\tvalidation_0-rmse:8.01479\tvalidation_1-rmse:9.43432\n",
      "[100]\tvalidation_0-rmse:0.20597\tvalidation_1-rmse:9.72523\n",
      "[200]\tvalidation_0-rmse:0.00781\tvalidation_1-rmse:9.72930\n",
      "[300]\tvalidation_0-rmse:0.00093\tvalidation_1-rmse:9.72966\n",
      "[400]\tvalidation_0-rmse:0.00093\tvalidation_1-rmse:9.72966\n",
      "[500]\tvalidation_0-rmse:0.00093\tvalidation_1-rmse:9.72966\n",
      "[600]\tvalidation_0-rmse:0.00093\tvalidation_1-rmse:9.72966\n",
      "[700]\tvalidation_0-rmse:0.00093\tvalidation_1-rmse:9.72966\n",
      "[800]\tvalidation_0-rmse:0.00093\tvalidation_1-rmse:9.72966\n",
      "[900]\tvalidation_0-rmse:0.00093\tvalidation_1-rmse:9.72966\n",
      "[999]\tvalidation_0-rmse:0.00093\tvalidation_1-rmse:9.72966\n",
      "RSME: 9.729661858210434\n",
      "[0]\tvalidation_0-rmse:8.61799\tvalidation_1-rmse:8.13083\n",
      "[100]\tvalidation_0-rmse:0.92988\tvalidation_1-rmse:8.61364\n",
      "[200]\tvalidation_0-rmse:0.11473\tvalidation_1-rmse:8.65859\n",
      "[300]\tvalidation_0-rmse:0.01571\tvalidation_1-rmse:8.66045\n",
      "[400]\tvalidation_0-rmse:0.00295\tvalidation_1-rmse:8.66005\n",
      "[500]\tvalidation_0-rmse:0.00113\tvalidation_1-rmse:8.65999\n",
      "[600]\tvalidation_0-rmse:0.00113\tvalidation_1-rmse:8.65999\n",
      "[700]\tvalidation_0-rmse:0.00113\tvalidation_1-rmse:8.65999\n",
      "[800]\tvalidation_0-rmse:0.00113\tvalidation_1-rmse:8.65999\n",
      "[900]\tvalidation_0-rmse:0.00113\tvalidation_1-rmse:8.65999\n",
      "[999]\tvalidation_0-rmse:0.00113\tvalidation_1-rmse:8.65999\n",
      "RSME: 8.659987599835965\n",
      "[0]\tvalidation_0-rmse:8.44802\tvalidation_1-rmse:8.77489\n",
      "[100]\tvalidation_0-rmse:1.82240\tvalidation_1-rmse:8.76560\n",
      "[200]\tvalidation_0-rmse:0.42785\tvalidation_1-rmse:8.85876\n",
      "[300]\tvalidation_0-rmse:0.09760\tvalidation_1-rmse:8.87188\n",
      "[400]\tvalidation_0-rmse:0.02322\tvalidation_1-rmse:8.87335\n",
      "[500]\tvalidation_0-rmse:0.00572\tvalidation_1-rmse:8.87407\n",
      "[600]\tvalidation_0-rmse:0.00156\tvalidation_1-rmse:8.87414\n",
      "[700]\tvalidation_0-rmse:0.00128\tvalidation_1-rmse:8.87414\n",
      "[800]\tvalidation_0-rmse:0.00128\tvalidation_1-rmse:8.87414\n",
      "[900]\tvalidation_0-rmse:0.00128\tvalidation_1-rmse:8.87414\n",
      "[999]\tvalidation_0-rmse:0.00128\tvalidation_1-rmse:8.87414\n",
      "RSME: 8.874139823286459\n",
      "[0]\tvalidation_0-rmse:8.48018\tvalidation_1-rmse:8.43761\n",
      "[100]\tvalidation_0-rmse:2.18329\tvalidation_1-rmse:8.77315\n",
      "[200]\tvalidation_0-rmse:0.70542\tvalidation_1-rmse:8.86459\n",
      "[300]\tvalidation_0-rmse:0.23445\tvalidation_1-rmse:8.89881\n",
      "[400]\tvalidation_0-rmse:0.07703\tvalidation_1-rmse:8.90060\n",
      "[500]\tvalidation_0-rmse:0.02858\tvalidation_1-rmse:8.90213\n",
      "[600]\tvalidation_0-rmse:0.01026\tvalidation_1-rmse:8.90150\n",
      "[700]\tvalidation_0-rmse:0.00349\tvalidation_1-rmse:8.90161\n",
      "[800]\tvalidation_0-rmse:0.00130\tvalidation_1-rmse:8.90168\n",
      "[900]\tvalidation_0-rmse:0.00126\tvalidation_1-rmse:8.90167\n",
      "[999]\tvalidation_0-rmse:0.00126\tvalidation_1-rmse:8.90167\n",
      "RSME: 8.90166760083453\n",
      "[0]\tvalidation_0-rmse:8.46086\tvalidation_1-rmse:7.59782\n",
      "[100]\tvalidation_0-rmse:2.74925\tvalidation_1-rmse:7.72288\n",
      "[200]\tvalidation_0-rmse:1.11445\tvalidation_1-rmse:7.81342\n",
      "[300]\tvalidation_0-rmse:0.42877\tvalidation_1-rmse:7.85283\n",
      "[400]\tvalidation_0-rmse:0.17655\tvalidation_1-rmse:7.86307\n",
      "[500]\tvalidation_0-rmse:0.06740\tvalidation_1-rmse:7.86513\n",
      "[600]\tvalidation_0-rmse:0.02818\tvalidation_1-rmse:7.86636\n",
      "[700]\tvalidation_0-rmse:0.01160\tvalidation_1-rmse:7.86706\n",
      "[800]\tvalidation_0-rmse:0.00499\tvalidation_1-rmse:7.86718\n",
      "[900]\tvalidation_0-rmse:0.00204\tvalidation_1-rmse:7.86732\n",
      "[999]\tvalidation_0-rmse:0.00144\tvalidation_1-rmse:7.86731\n",
      "RSME: 7.867312142474836\n",
      "RSME: 8.806553804928445\n"
     ]
    }
   ],
   "source": [
    "ts_modeler = TimeSeriesModeler(XGBRegressor())\n",
    "ts_modeler.ts_train(params, logs, c.PTS)\n",
    "rmse['base_model'] = ts_modeler.ts_rmse()"
   ],
   "metadata": {
    "collapsed": false,
    "ExecuteTime": {
     "end_time": "2024-03-01T21:54:31.782501Z",
     "start_time": "2024-03-01T21:54:25.382917Z"
    }
   },
   "id": "c11dbd97110e9e6e",
   "execution_count": 6
  },
  {
   "cell_type": "code",
   "outputs": [
    {
     "data": {
      "text/plain": "8.806553804928445"
     },
     "execution_count": 7,
     "metadata": {},
     "output_type": "execute_result"
    }
   ],
   "source": [
    "rmse['base_model']"
   ],
   "metadata": {
    "collapsed": false,
    "ExecuteTime": {
     "end_time": "2024-03-01T21:54:31.786930Z",
     "start_time": "2024-03-01T21:54:31.782568Z"
    }
   },
   "id": "bc1e07311a316e4",
   "execution_count": 7
  },
  {
   "cell_type": "code",
   "outputs": [
    {
     "name": "stdout",
     "output_type": "stream",
     "text": [
      "  0%|          | 0/250 [00:00<?, ?trial/s, best loss=?]\n"
     ]
    },
    {
     "ename": "AttributeError",
     "evalue": "'numpy.random._generator.Generator' object has no attribute 'randint'",
     "output_type": "error",
     "traceback": [
      "\u001B[0;31m---------------------------------------------------------------------------\u001B[0m",
      "\u001B[0;31mAttributeError\u001B[0m                            Traceback (most recent call last)",
      "Cell \u001B[0;32mIn[8], line 16\u001B[0m\n\u001B[1;32m      1\u001B[0m space \u001B[38;5;241m=\u001B[39m {\n\u001B[1;32m      2\u001B[0m     \u001B[38;5;124m'\u001B[39m\u001B[38;5;124mobjective\u001B[39m\u001B[38;5;124m'\u001B[39m: \u001B[38;5;124m'\u001B[39m\u001B[38;5;124mreg:squarederror\u001B[39m\u001B[38;5;124m'\u001B[39m,\n\u001B[1;32m      3\u001B[0m     \u001B[38;5;124m'\u001B[39m\u001B[38;5;124meval_metric\u001B[39m\u001B[38;5;124m'\u001B[39m: \u001B[38;5;124m'\u001B[39m\u001B[38;5;124mrmse\u001B[39m\u001B[38;5;124m'\u001B[39m,\n\u001B[0;32m   (...)\u001B[0m\n\u001B[1;32m     12\u001B[0m     \u001B[38;5;124m'\u001B[39m\u001B[38;5;124mn_estimators\u001B[39m\u001B[38;5;124m'\u001B[39m: hp\u001B[38;5;241m.\u001B[39mquniform(\u001B[38;5;124m'\u001B[39m\u001B[38;5;124mn_estimators\u001B[39m\u001B[38;5;124m'\u001B[39m, \u001B[38;5;241m100\u001B[39m, \u001B[38;5;241m1000\u001B[39m, \u001B[38;5;241m1\u001B[39m),\n\u001B[1;32m     13\u001B[0m }\n\u001B[1;32m     15\u001B[0m tuner \u001B[38;5;241m=\u001B[39m TimeSeriesHyperParamTuner(ts_modeler, space)\n\u001B[0;32m---> 16\u001B[0m best \u001B[38;5;241m=\u001B[39m \u001B[43mtuner\u001B[49m\u001B[38;5;241;43m.\u001B[39;49m\u001B[43mts_optimize\u001B[49m\u001B[43m(\u001B[49m\u001B[38;5;241;43m250\u001B[39;49m\u001B[43m,\u001B[49m\u001B[43m \u001B[49m\u001B[43mlogs\u001B[49m\u001B[43m,\u001B[49m\u001B[43m \u001B[49m\u001B[43mc\u001B[49m\u001B[38;5;241;43m.\u001B[39;49m\u001B[43mPTS\u001B[49m\u001B[43m)\u001B[49m\n\u001B[1;32m     17\u001B[0m best\n",
      "File \u001B[0;32m~/Projects/personal/nba-analysis/tools/modeling/timeserieshyperparamtuner.py:15\u001B[0m, in \u001B[0;36mTimeSeriesHyperParamTuner.ts_optimize\u001B[0;34m(self, max_evals, df, taget_col)\u001B[0m\n\u001B[1;32m     13\u001B[0m \u001B[38;5;28mself\u001B[39m\u001B[38;5;241m.\u001B[39mdf \u001B[38;5;241m=\u001B[39m df\n\u001B[1;32m     14\u001B[0m \u001B[38;5;28mself\u001B[39m\u001B[38;5;241m.\u001B[39mtarget_col \u001B[38;5;241m=\u001B[39m taget_col\n\u001B[0;32m---> 15\u001B[0m \u001B[38;5;28;01mreturn\u001B[39;00m \u001B[38;5;28;43mself\u001B[39;49m\u001B[38;5;241;43m.\u001B[39;49m\u001B[43moptimize\u001B[49m\u001B[43m(\u001B[49m\u001B[43mmax_evals\u001B[49m\u001B[43m)\u001B[49m\n",
      "File \u001B[0;32m~/Projects/personal/nba-analysis/tools/modeling/hyperparamtuner.py:20\u001B[0m, in \u001B[0;36mHyperParamTuner.optimize\u001B[0;34m(self, max_evals)\u001B[0m\n\u001B[1;32m     18\u001B[0m \u001B[38;5;28;01mdef\u001B[39;00m \u001B[38;5;21moptimize\u001B[39m(\u001B[38;5;28mself\u001B[39m, max_evals):\n\u001B[1;32m     19\u001B[0m     trials \u001B[38;5;241m=\u001B[39m Trials()\n\u001B[0;32m---> 20\u001B[0m     best \u001B[38;5;241m=\u001B[39m \u001B[43mfmin\u001B[49m\u001B[43m(\u001B[49m\u001B[43mfn\u001B[49m\u001B[38;5;241;43m=\u001B[39;49m\u001B[38;5;28;43mself\u001B[39;49m\u001B[38;5;241;43m.\u001B[39;49m\u001B[43mobjective\u001B[49m\u001B[43m,\u001B[49m\n\u001B[1;32m     21\u001B[0m \u001B[43m                \u001B[49m\u001B[43mspace\u001B[49m\u001B[38;5;241;43m=\u001B[39;49m\u001B[38;5;28;43mself\u001B[39;49m\u001B[38;5;241;43m.\u001B[39;49m\u001B[43mspace\u001B[49m\u001B[43m,\u001B[49m\n\u001B[1;32m     22\u001B[0m \u001B[43m                \u001B[49m\u001B[43malgo\u001B[49m\u001B[38;5;241;43m=\u001B[39;49m\u001B[43mtpe\u001B[49m\u001B[38;5;241;43m.\u001B[39;49m\u001B[43msuggest\u001B[49m\u001B[43m,\u001B[49m\n\u001B[1;32m     23\u001B[0m \u001B[43m                \u001B[49m\u001B[43mmax_evals\u001B[49m\u001B[38;5;241;43m=\u001B[39;49m\u001B[43mmax_evals\u001B[49m\u001B[43m,\u001B[49m\n\u001B[1;32m     24\u001B[0m \u001B[43m                \u001B[49m\u001B[43mtrials\u001B[49m\u001B[38;5;241;43m=\u001B[39;49m\u001B[43mtrials\u001B[49m\u001B[43m,\u001B[49m\n\u001B[1;32m     25\u001B[0m \u001B[43m                \u001B[49m\u001B[43mrstate\u001B[49m\u001B[38;5;241;43m=\u001B[39;49m\u001B[43mnp\u001B[49m\u001B[38;5;241;43m.\u001B[39;49m\u001B[43mrandom\u001B[49m\u001B[38;5;241;43m.\u001B[39;49m\u001B[43mdefault_rng\u001B[49m\u001B[43m(\u001B[49m\u001B[38;5;28;43mself\u001B[39;49m\u001B[38;5;241;43m.\u001B[39;49m\u001B[43mSEED\u001B[49m\u001B[43m)\u001B[49m\n\u001B[1;32m     26\u001B[0m \u001B[43m                \u001B[49m\u001B[43m)\u001B[49m\n\u001B[1;32m     27\u001B[0m     \u001B[38;5;28;01mreturn\u001B[39;00m space_eval(\u001B[38;5;28mself\u001B[39m\u001B[38;5;241m.\u001B[39mspace, best)\n",
      "File \u001B[0;32m/opt/homebrew/lib/python3.11/site-packages/hyperopt/fmin.py:507\u001B[0m, in \u001B[0;36mfmin\u001B[0;34m(fn, space, algo, max_evals, timeout, loss_threshold, trials, rstate, allow_trials_fmin, pass_expr_memo_ctrl, catch_eval_exceptions, verbose, return_argmin, points_to_evaluate, max_queue_len, show_progressbar, early_stop_fn, trials_save_file)\u001B[0m\n\u001B[1;32m    504\u001B[0m validate_loss_threshold(loss_threshold)\n\u001B[1;32m    506\u001B[0m \u001B[38;5;28;01mif\u001B[39;00m allow_trials_fmin \u001B[38;5;129;01mand\u001B[39;00m \u001B[38;5;28mhasattr\u001B[39m(trials, \u001B[38;5;124m\"\u001B[39m\u001B[38;5;124mfmin\u001B[39m\u001B[38;5;124m\"\u001B[39m):\n\u001B[0;32m--> 507\u001B[0m     \u001B[38;5;28;01mreturn\u001B[39;00m \u001B[43mtrials\u001B[49m\u001B[38;5;241;43m.\u001B[39;49m\u001B[43mfmin\u001B[49m\u001B[43m(\u001B[49m\n\u001B[1;32m    508\u001B[0m \u001B[43m        \u001B[49m\u001B[43mfn\u001B[49m\u001B[43m,\u001B[49m\n\u001B[1;32m    509\u001B[0m \u001B[43m        \u001B[49m\u001B[43mspace\u001B[49m\u001B[43m,\u001B[49m\n\u001B[1;32m    510\u001B[0m \u001B[43m        \u001B[49m\u001B[43malgo\u001B[49m\u001B[38;5;241;43m=\u001B[39;49m\u001B[43malgo\u001B[49m\u001B[43m,\u001B[49m\n\u001B[1;32m    511\u001B[0m \u001B[43m        \u001B[49m\u001B[43mmax_evals\u001B[49m\u001B[38;5;241;43m=\u001B[39;49m\u001B[43mmax_evals\u001B[49m\u001B[43m,\u001B[49m\n\u001B[1;32m    512\u001B[0m \u001B[43m        \u001B[49m\u001B[43mtimeout\u001B[49m\u001B[38;5;241;43m=\u001B[39;49m\u001B[43mtimeout\u001B[49m\u001B[43m,\u001B[49m\n\u001B[1;32m    513\u001B[0m \u001B[43m        \u001B[49m\u001B[43mloss_threshold\u001B[49m\u001B[38;5;241;43m=\u001B[39;49m\u001B[43mloss_threshold\u001B[49m\u001B[43m,\u001B[49m\n\u001B[1;32m    514\u001B[0m \u001B[43m        \u001B[49m\u001B[43mmax_queue_len\u001B[49m\u001B[38;5;241;43m=\u001B[39;49m\u001B[43mmax_queue_len\u001B[49m\u001B[43m,\u001B[49m\n\u001B[1;32m    515\u001B[0m \u001B[43m        \u001B[49m\u001B[43mrstate\u001B[49m\u001B[38;5;241;43m=\u001B[39;49m\u001B[43mrstate\u001B[49m\u001B[43m,\u001B[49m\n\u001B[1;32m    516\u001B[0m \u001B[43m        \u001B[49m\u001B[43mpass_expr_memo_ctrl\u001B[49m\u001B[38;5;241;43m=\u001B[39;49m\u001B[43mpass_expr_memo_ctrl\u001B[49m\u001B[43m,\u001B[49m\n\u001B[1;32m    517\u001B[0m \u001B[43m        \u001B[49m\u001B[43mverbose\u001B[49m\u001B[38;5;241;43m=\u001B[39;49m\u001B[43mverbose\u001B[49m\u001B[43m,\u001B[49m\n\u001B[1;32m    518\u001B[0m \u001B[43m        \u001B[49m\u001B[43mcatch_eval_exceptions\u001B[49m\u001B[38;5;241;43m=\u001B[39;49m\u001B[43mcatch_eval_exceptions\u001B[49m\u001B[43m,\u001B[49m\n\u001B[1;32m    519\u001B[0m \u001B[43m        \u001B[49m\u001B[43mreturn_argmin\u001B[49m\u001B[38;5;241;43m=\u001B[39;49m\u001B[43mreturn_argmin\u001B[49m\u001B[43m,\u001B[49m\n\u001B[1;32m    520\u001B[0m \u001B[43m        \u001B[49m\u001B[43mshow_progressbar\u001B[49m\u001B[38;5;241;43m=\u001B[39;49m\u001B[43mshow_progressbar\u001B[49m\u001B[43m,\u001B[49m\n\u001B[1;32m    521\u001B[0m \u001B[43m        \u001B[49m\u001B[43mearly_stop_fn\u001B[49m\u001B[38;5;241;43m=\u001B[39;49m\u001B[43mearly_stop_fn\u001B[49m\u001B[43m,\u001B[49m\n\u001B[1;32m    522\u001B[0m \u001B[43m        \u001B[49m\u001B[43mtrials_save_file\u001B[49m\u001B[38;5;241;43m=\u001B[39;49m\u001B[43mtrials_save_file\u001B[49m\u001B[43m,\u001B[49m\n\u001B[1;32m    523\u001B[0m \u001B[43m    \u001B[49m\u001B[43m)\u001B[49m\n\u001B[1;32m    525\u001B[0m \u001B[38;5;28;01mif\u001B[39;00m trials \u001B[38;5;129;01mis\u001B[39;00m \u001B[38;5;28;01mNone\u001B[39;00m:\n\u001B[1;32m    526\u001B[0m     \u001B[38;5;28;01mif\u001B[39;00m os\u001B[38;5;241m.\u001B[39mpath\u001B[38;5;241m.\u001B[39mexists(trials_save_file):\n",
      "File \u001B[0;32m/opt/homebrew/lib/python3.11/site-packages/hyperopt/base.py:682\u001B[0m, in \u001B[0;36mTrials.fmin\u001B[0;34m(self, fn, space, algo, max_evals, timeout, loss_threshold, max_queue_len, rstate, verbose, pass_expr_memo_ctrl, catch_eval_exceptions, return_argmin, show_progressbar, early_stop_fn, trials_save_file)\u001B[0m\n\u001B[1;32m    677\u001B[0m \u001B[38;5;66;03m# -- Stop-gap implementation!\u001B[39;00m\n\u001B[1;32m    678\u001B[0m \u001B[38;5;66;03m#    fmin should have been a Trials method in the first place\u001B[39;00m\n\u001B[1;32m    679\u001B[0m \u001B[38;5;66;03m#    but for now it's still sitting in another file.\u001B[39;00m\n\u001B[1;32m    680\u001B[0m \u001B[38;5;28;01mfrom\u001B[39;00m \u001B[38;5;21;01m.\u001B[39;00m\u001B[38;5;21;01mfmin\u001B[39;00m \u001B[38;5;28;01mimport\u001B[39;00m fmin\n\u001B[0;32m--> 682\u001B[0m \u001B[38;5;28;01mreturn\u001B[39;00m \u001B[43mfmin\u001B[49m\u001B[43m(\u001B[49m\n\u001B[1;32m    683\u001B[0m \u001B[43m    \u001B[49m\u001B[43mfn\u001B[49m\u001B[43m,\u001B[49m\n\u001B[1;32m    684\u001B[0m \u001B[43m    \u001B[49m\u001B[43mspace\u001B[49m\u001B[43m,\u001B[49m\n\u001B[1;32m    685\u001B[0m \u001B[43m    \u001B[49m\u001B[43malgo\u001B[49m\u001B[43m,\u001B[49m\n\u001B[1;32m    686\u001B[0m \u001B[43m    \u001B[49m\u001B[43mmax_evals\u001B[49m\u001B[43m,\u001B[49m\n\u001B[1;32m    687\u001B[0m \u001B[43m    \u001B[49m\u001B[43mtimeout\u001B[49m\u001B[38;5;241;43m=\u001B[39;49m\u001B[43mtimeout\u001B[49m\u001B[43m,\u001B[49m\n\u001B[1;32m    688\u001B[0m \u001B[43m    \u001B[49m\u001B[43mloss_threshold\u001B[49m\u001B[38;5;241;43m=\u001B[39;49m\u001B[43mloss_threshold\u001B[49m\u001B[43m,\u001B[49m\n\u001B[1;32m    689\u001B[0m \u001B[43m    \u001B[49m\u001B[43mtrials\u001B[49m\u001B[38;5;241;43m=\u001B[39;49m\u001B[38;5;28;43mself\u001B[39;49m\u001B[43m,\u001B[49m\n\u001B[1;32m    690\u001B[0m \u001B[43m    \u001B[49m\u001B[43mrstate\u001B[49m\u001B[38;5;241;43m=\u001B[39;49m\u001B[43mrstate\u001B[49m\u001B[43m,\u001B[49m\n\u001B[1;32m    691\u001B[0m \u001B[43m    \u001B[49m\u001B[43mverbose\u001B[49m\u001B[38;5;241;43m=\u001B[39;49m\u001B[43mverbose\u001B[49m\u001B[43m,\u001B[49m\n\u001B[1;32m    692\u001B[0m \u001B[43m    \u001B[49m\u001B[43mmax_queue_len\u001B[49m\u001B[38;5;241;43m=\u001B[39;49m\u001B[43mmax_queue_len\u001B[49m\u001B[43m,\u001B[49m\n\u001B[1;32m    693\u001B[0m \u001B[43m    \u001B[49m\u001B[43mallow_trials_fmin\u001B[49m\u001B[38;5;241;43m=\u001B[39;49m\u001B[38;5;28;43;01mFalse\u001B[39;49;00m\u001B[43m,\u001B[49m\u001B[43m  \u001B[49m\u001B[38;5;66;43;03m# -- prevent recursion\u001B[39;49;00m\n\u001B[1;32m    694\u001B[0m \u001B[43m    \u001B[49m\u001B[43mpass_expr_memo_ctrl\u001B[49m\u001B[38;5;241;43m=\u001B[39;49m\u001B[43mpass_expr_memo_ctrl\u001B[49m\u001B[43m,\u001B[49m\n\u001B[1;32m    695\u001B[0m \u001B[43m    \u001B[49m\u001B[43mcatch_eval_exceptions\u001B[49m\u001B[38;5;241;43m=\u001B[39;49m\u001B[43mcatch_eval_exceptions\u001B[49m\u001B[43m,\u001B[49m\n\u001B[1;32m    696\u001B[0m \u001B[43m    \u001B[49m\u001B[43mreturn_argmin\u001B[49m\u001B[38;5;241;43m=\u001B[39;49m\u001B[43mreturn_argmin\u001B[49m\u001B[43m,\u001B[49m\n\u001B[1;32m    697\u001B[0m \u001B[43m    \u001B[49m\u001B[43mshow_progressbar\u001B[49m\u001B[38;5;241;43m=\u001B[39;49m\u001B[43mshow_progressbar\u001B[49m\u001B[43m,\u001B[49m\n\u001B[1;32m    698\u001B[0m \u001B[43m    \u001B[49m\u001B[43mearly_stop_fn\u001B[49m\u001B[38;5;241;43m=\u001B[39;49m\u001B[43mearly_stop_fn\u001B[49m\u001B[43m,\u001B[49m\n\u001B[1;32m    699\u001B[0m \u001B[43m    \u001B[49m\u001B[43mtrials_save_file\u001B[49m\u001B[38;5;241;43m=\u001B[39;49m\u001B[43mtrials_save_file\u001B[49m\u001B[43m,\u001B[49m\n\u001B[1;32m    700\u001B[0m \u001B[43m\u001B[49m\u001B[43m)\u001B[49m\n",
      "File \u001B[0;32m/opt/homebrew/lib/python3.11/site-packages/hyperopt/fmin.py:553\u001B[0m, in \u001B[0;36mfmin\u001B[0;34m(fn, space, algo, max_evals, timeout, loss_threshold, trials, rstate, allow_trials_fmin, pass_expr_memo_ctrl, catch_eval_exceptions, verbose, return_argmin, points_to_evaluate, max_queue_len, show_progressbar, early_stop_fn, trials_save_file)\u001B[0m\n\u001B[1;32m    550\u001B[0m rval\u001B[38;5;241m.\u001B[39mcatch_eval_exceptions \u001B[38;5;241m=\u001B[39m catch_eval_exceptions\n\u001B[1;32m    552\u001B[0m \u001B[38;5;66;03m# next line is where the fmin is actually executed\u001B[39;00m\n\u001B[0;32m--> 553\u001B[0m \u001B[43mrval\u001B[49m\u001B[38;5;241;43m.\u001B[39;49m\u001B[43mexhaust\u001B[49m\u001B[43m(\u001B[49m\u001B[43m)\u001B[49m\n\u001B[1;32m    555\u001B[0m \u001B[38;5;28;01mif\u001B[39;00m return_argmin:\n\u001B[1;32m    556\u001B[0m     \u001B[38;5;28;01mif\u001B[39;00m \u001B[38;5;28mlen\u001B[39m(trials\u001B[38;5;241m.\u001B[39mtrials) \u001B[38;5;241m==\u001B[39m \u001B[38;5;241m0\u001B[39m:\n",
      "File \u001B[0;32m/opt/homebrew/lib/python3.11/site-packages/hyperopt/fmin.py:356\u001B[0m, in \u001B[0;36mFMinIter.exhaust\u001B[0;34m(self)\u001B[0m\n\u001B[1;32m    354\u001B[0m \u001B[38;5;28;01mdef\u001B[39;00m \u001B[38;5;21mexhaust\u001B[39m(\u001B[38;5;28mself\u001B[39m):\n\u001B[1;32m    355\u001B[0m     n_done \u001B[38;5;241m=\u001B[39m \u001B[38;5;28mlen\u001B[39m(\u001B[38;5;28mself\u001B[39m\u001B[38;5;241m.\u001B[39mtrials)\n\u001B[0;32m--> 356\u001B[0m     \u001B[38;5;28;43mself\u001B[39;49m\u001B[38;5;241;43m.\u001B[39;49m\u001B[43mrun\u001B[49m\u001B[43m(\u001B[49m\u001B[38;5;28;43mself\u001B[39;49m\u001B[38;5;241;43m.\u001B[39;49m\u001B[43mmax_evals\u001B[49m\u001B[43m \u001B[49m\u001B[38;5;241;43m-\u001B[39;49m\u001B[43m \u001B[49m\u001B[43mn_done\u001B[49m\u001B[43m,\u001B[49m\u001B[43m \u001B[49m\u001B[43mblock_until_done\u001B[49m\u001B[38;5;241;43m=\u001B[39;49m\u001B[38;5;28;43mself\u001B[39;49m\u001B[38;5;241;43m.\u001B[39;49m\u001B[43masynchronous\u001B[49m\u001B[43m)\u001B[49m\n\u001B[1;32m    357\u001B[0m     \u001B[38;5;28mself\u001B[39m\u001B[38;5;241m.\u001B[39mtrials\u001B[38;5;241m.\u001B[39mrefresh()\n\u001B[1;32m    358\u001B[0m     \u001B[38;5;28;01mreturn\u001B[39;00m \u001B[38;5;28mself\u001B[39m\n",
      "File \u001B[0;32m/opt/homebrew/lib/python3.11/site-packages/hyperopt/fmin.py:271\u001B[0m, in \u001B[0;36mFMinIter.run\u001B[0;34m(self, N, block_until_done)\u001B[0m\n\u001B[1;32m    265\u001B[0m \u001B[38;5;28mself\u001B[39m\u001B[38;5;241m.\u001B[39mtrials\u001B[38;5;241m.\u001B[39mrefresh()\n\u001B[1;32m    266\u001B[0m \u001B[38;5;66;03m# Based on existing trials and the domain, use `algo` to probe in\u001B[39;00m\n\u001B[1;32m    267\u001B[0m \u001B[38;5;66;03m# new hp points. Save the results of those inspections into\u001B[39;00m\n\u001B[1;32m    268\u001B[0m \u001B[38;5;66;03m# `new_trials`. This is the core of `run`, all the rest is just\u001B[39;00m\n\u001B[1;32m    269\u001B[0m \u001B[38;5;66;03m# processes orchestration\u001B[39;00m\n\u001B[1;32m    270\u001B[0m new_trials \u001B[38;5;241m=\u001B[39m algo(\n\u001B[0;32m--> 271\u001B[0m     new_ids, \u001B[38;5;28mself\u001B[39m\u001B[38;5;241m.\u001B[39mdomain, trials, \u001B[38;5;28;43mself\u001B[39;49m\u001B[38;5;241;43m.\u001B[39;49m\u001B[43mrstate\u001B[49m\u001B[38;5;241;43m.\u001B[39;49m\u001B[43mrandint\u001B[49m(\u001B[38;5;241m2\u001B[39m \u001B[38;5;241m*\u001B[39m\u001B[38;5;241m*\u001B[39m \u001B[38;5;241m31\u001B[39m \u001B[38;5;241m-\u001B[39m \u001B[38;5;241m1\u001B[39m)\n\u001B[1;32m    272\u001B[0m )\n\u001B[1;32m    273\u001B[0m \u001B[38;5;28;01massert\u001B[39;00m \u001B[38;5;28mlen\u001B[39m(new_ids) \u001B[38;5;241m>\u001B[39m\u001B[38;5;241m=\u001B[39m \u001B[38;5;28mlen\u001B[39m(new_trials)\n\u001B[1;32m    275\u001B[0m \u001B[38;5;28;01mif\u001B[39;00m \u001B[38;5;28mlen\u001B[39m(new_trials):\n",
      "\u001B[0;31mAttributeError\u001B[0m: 'numpy.random._generator.Generator' object has no attribute 'randint'"
     ]
    }
   ],
   "source": [
    "space = {\n",
    "    'objective': 'reg:squarederror',\n",
    "    'eval_metric': 'rmse',\n",
    "    'max_depth': hp.quniform('max_depth', 3, 18, 1),\n",
    "    'gamma': hp.uniform('gamma', 1, 9),\n",
    "    'reg_alpha': hp.quniform('reg_alpha', 40, 180, 1),\n",
    "    'reg_lambda': hp.uniform('reg_lambda', 0, 1),\n",
    "    'colsample_bytree': hp.uniform('colsample_bytree', 0.5, 1),\n",
    "    'min_child_weight': hp.quniform('min_child_weight', 0, 10, 1),\n",
    "    'eta': hp.quniform('eta', 0.025, 0.5, 0.025),\n",
    "    'subsample': hp.quniform('subsample', 0.5, 1, 0.05),\n",
    "    'n_estimators': hp.quniform('n_estimators', 100, 1000, 1),\n",
    "}\n",
    "\n",
    "tuner = TimeSeriesHyperParamTuner(ts_modeler, space)\n",
    "best = tuner.ts_optimize(250, logs, c.PTS)\n",
    "best"
   ],
   "metadata": {
    "collapsed": false,
    "ExecuteTime": {
     "end_time": "2024-03-01T21:54:32.080497Z",
     "start_time": "2024-03-01T21:54:31.789134Z"
    }
   },
   "id": "d3a6d2a1ee2ad490",
   "execution_count": 8
  },
  {
   "cell_type": "code",
   "outputs": [],
   "source": [
    "ts_modeler.ts_train(best, logs, c.PTS)\n",
    "rmse['tuned_model'] = ts_modeler.ts_rmse()\n",
    "rmse"
   ],
   "metadata": {
    "collapsed": false,
    "ExecuteTime": {
     "start_time": "2024-03-01T21:54:32.077903Z"
    }
   },
   "id": "656350b056de9a66",
   "execution_count": null
  },
  {
   "cell_type": "code",
   "outputs": [],
   "source": [
    "shap.plots.bar(ts_modeler.shap_values(), max_display=100)"
   ],
   "metadata": {
    "collapsed": false,
    "ExecuteTime": {
     "start_time": "2024-03-01T21:54:32.079112Z"
    }
   },
   "id": "1b152eca31cb63cb",
   "execution_count": null
  }
 ],
 "metadata": {
  "kernelspec": {
   "display_name": "Python 3",
   "language": "python",
   "name": "python3"
  },
  "language_info": {
   "codemirror_mode": {
    "name": "ipython",
    "version": 2
   },
   "file_extension": ".py",
   "mimetype": "text/x-python",
   "name": "python",
   "nbconvert_exporter": "python",
   "pygments_lexer": "ipython2",
   "version": "2.7.6"
  }
 },
 "nbformat": 4,
 "nbformat_minor": 5
}
