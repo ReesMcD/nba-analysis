{
 "cells": [
  {
   "cell_type": "code",
   "execution_count": null,
   "id": "initial_id",
   "metadata": {
    "collapsed": true
   },
   "outputs": [],
   "source": [
    "from nba.client.player_client import PlayerClient\n",
    "import nba.constants  as c\n",
    "\n",
    "import os\n",
    "\n",
    "ROOT_DIR = os.getcwd()[:-17] # verify this points to the root directory of the project\n",
    "\n",
    "season = c.SEASON_2022_2023\n",
    "player = c.TYRESE_MAXEY\n",
    "pc = PlayerClient()\n",
    "\n",
    "ROOT_DIR"
   ]
  }
 ],
 "metadata": {
  "kernelspec": {
   "display_name": "Python 3",
   "language": "python",
   "name": "python3"
  },
  "language_info": {
   "codemirror_mode": {
    "name": "ipython",
    "version": 2
   },
   "file_extension": ".py",
   "mimetype": "text/x-python",
   "name": "python",
   "nbconvert_exporter": "python",
   "pygments_lexer": "ipython2",
   "version": "2.7.6"
  }
 },
 "nbformat": 4,
 "nbformat_minor": 5
}
