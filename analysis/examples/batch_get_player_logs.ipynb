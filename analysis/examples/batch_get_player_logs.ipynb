{
 "cells": [
  {
   "cell_type": "code",
   "execution_count": 1,
   "id": "initial_id",
   "metadata": {
    "collapsed": true,
    "ExecuteTime": {
     "end_time": "2024-02-29T23:12:15.695434Z",
     "start_time": "2024-02-29T23:12:14.959540Z"
    }
   },
   "outputs": [
    {
     "data": {
      "text/plain": "'/Users/rmcdevi2/Projects/personal/nba-analysis/'"
     },
     "execution_count": 1,
     "metadata": {},
     "output_type": "execute_result"
    }
   ],
   "source": [
    "from nba.players import get_all_players_by_season\n",
    "\n",
    "import nba.constants  as c\n",
    "\n",
    "import os\n",
    "\n",
    "ROOT_DIR = os.getcwd()[:-17] # verify this points to the root directory of the project\n",
    "\n",
    "season = c.SEASON_2022_2023\n",
    "\n",
    "ROOT_DIR"
   ]
  },
  {
   "cell_type": "code",
   "outputs": [],
   "source": [
    "df = get_all_players_by_season(season)"
   ],
   "metadata": {
    "collapsed": false,
    "ExecuteTime": {
     "end_time": "2024-02-29T23:17:57.918844Z",
     "start_time": "2024-02-29T23:17:57.310323Z"
    }
   },
   "id": "abc7f017ffd95a7d",
   "execution_count": 7
  },
  {
   "cell_type": "code",
   "outputs": [
    {
     "data": {
      "text/plain": "     PLAYER_ID              PLAYER_NAME  NICKNAME     TEAM_ID  \\\n251     203954              Joel Embiid      Joel  1610612755   \n340    1629029              Luka Doncic      Luka  1610612742   \n90      203081           Damian Lillard    Damian  1610612757   \n463    1628983  Shai Gilgeous-Alexander      Shai  1610612760   \n166     203507    Giannis Antetokounmpo   Giannis  1610612749   \n..         ...                      ...       ...         ...   \n14     1631214         Alondes Williams   Alondes  1610612751   \n472    1628425           Sterling Brown  Sterling  1610612747   \n373    1630701       Michael Foster Jr.   Michael  1610612755   \n118    1629126            Deonte Burton    Deonte  1610612758   \n151    1628402            Frank Jackson     Frank  1610612762   \n\n    TEAM_ABBREVIATION   AGE  GP   W   L  W_PCT  ...  BLK_RANK  BLKA_RANK  \\\n251               PHI  29.0  66  43  23  0.652  ...         8          5   \n340               DAL  24.0  66  33  33  0.500  ...       132         84   \n90                POR  32.0  58  27  31  0.466  ...       244         57   \n463               OKC  24.0  68  33  35  0.485  ...        38          3   \n166               MIL  28.0  63  47  16  0.746  ...        56          9   \n..                ...   ...  ..  ..  ..    ...  ...       ...        ...   \n14                BKN  24.0   1   1   0  1.000  ...       491        499   \n472               LAL  28.0   4   2   2  0.500  ...       491        318   \n373               PHI  20.0   1   1   0  1.000  ...       491        499   \n118               SAC  29.0   2   1   1  0.500  ...       491        141   \n151               UTA  25.0   1   0   1  0.000  ...       491        499   \n\n     PF_RANK  PFD_RANK  PTS_RANK  PLUS_MINUS_RANK  NBA_FANTASY_PTS_RANK  \\\n251       25         2         1                8                     2   \n340       81         3         2              101                     1   \n90       213         5         3              109                     9   \n463       44         4         4               88                     6   \n166       24         1         5               16                     4   \n..       ...       ...       ...              ...                   ...   \n14       433       526       535              511                   539   \n472      433       526       535              330                   488   \n373      528       526       535              409                   537   \n118      528       439       535               76                   537   \n151      528       526       535              409                   510   \n\n     DD2_RANK  TD3_RANK  WNBA_FANTASY_PTS_RANK  \n251         9        17                      2  \n340        11         3                      1  \n90         41        11                      5  \n463       130        39                      9  \n166         4         5                      3  \n..        ...       ...                    ...  \n14        253        39                    536  \n472       253        39                    503  \n373       253        39                    538  \n118       253        39                    538  \n151       253        39                    521  \n\n[539 rows x 66 columns]",
      "text/html": "<div>\n<style scoped>\n    .dataframe tbody tr th:only-of-type {\n        vertical-align: middle;\n    }\n\n    .dataframe tbody tr th {\n        vertical-align: top;\n    }\n\n    .dataframe thead th {\n        text-align: right;\n    }\n</style>\n<table border=\"1\" class=\"dataframe\">\n  <thead>\n    <tr style=\"text-align: right;\">\n      <th></th>\n      <th>PLAYER_ID</th>\n      <th>PLAYER_NAME</th>\n      <th>NICKNAME</th>\n      <th>TEAM_ID</th>\n      <th>TEAM_ABBREVIATION</th>\n      <th>AGE</th>\n      <th>GP</th>\n      <th>W</th>\n      <th>L</th>\n      <th>W_PCT</th>\n      <th>...</th>\n      <th>BLK_RANK</th>\n      <th>BLKA_RANK</th>\n      <th>PF_RANK</th>\n      <th>PFD_RANK</th>\n      <th>PTS_RANK</th>\n      <th>PLUS_MINUS_RANK</th>\n      <th>NBA_FANTASY_PTS_RANK</th>\n      <th>DD2_RANK</th>\n      <th>TD3_RANK</th>\n      <th>WNBA_FANTASY_PTS_RANK</th>\n    </tr>\n  </thead>\n  <tbody>\n    <tr>\n      <th>251</th>\n      <td>203954</td>\n      <td>Joel Embiid</td>\n      <td>Joel</td>\n      <td>1610612755</td>\n      <td>PHI</td>\n      <td>29.0</td>\n      <td>66</td>\n      <td>43</td>\n      <td>23</td>\n      <td>0.652</td>\n      <td>...</td>\n      <td>8</td>\n      <td>5</td>\n      <td>25</td>\n      <td>2</td>\n      <td>1</td>\n      <td>8</td>\n      <td>2</td>\n      <td>9</td>\n      <td>17</td>\n      <td>2</td>\n    </tr>\n    <tr>\n      <th>340</th>\n      <td>1629029</td>\n      <td>Luka Doncic</td>\n      <td>Luka</td>\n      <td>1610612742</td>\n      <td>DAL</td>\n      <td>24.0</td>\n      <td>66</td>\n      <td>33</td>\n      <td>33</td>\n      <td>0.500</td>\n      <td>...</td>\n      <td>132</td>\n      <td>84</td>\n      <td>81</td>\n      <td>3</td>\n      <td>2</td>\n      <td>101</td>\n      <td>1</td>\n      <td>11</td>\n      <td>3</td>\n      <td>1</td>\n    </tr>\n    <tr>\n      <th>90</th>\n      <td>203081</td>\n      <td>Damian Lillard</td>\n      <td>Damian</td>\n      <td>1610612757</td>\n      <td>POR</td>\n      <td>32.0</td>\n      <td>58</td>\n      <td>27</td>\n      <td>31</td>\n      <td>0.466</td>\n      <td>...</td>\n      <td>244</td>\n      <td>57</td>\n      <td>213</td>\n      <td>5</td>\n      <td>3</td>\n      <td>109</td>\n      <td>9</td>\n      <td>41</td>\n      <td>11</td>\n      <td>5</td>\n    </tr>\n    <tr>\n      <th>463</th>\n      <td>1628983</td>\n      <td>Shai Gilgeous-Alexander</td>\n      <td>Shai</td>\n      <td>1610612760</td>\n      <td>OKC</td>\n      <td>24.0</td>\n      <td>68</td>\n      <td>33</td>\n      <td>35</td>\n      <td>0.485</td>\n      <td>...</td>\n      <td>38</td>\n      <td>3</td>\n      <td>44</td>\n      <td>4</td>\n      <td>4</td>\n      <td>88</td>\n      <td>6</td>\n      <td>130</td>\n      <td>39</td>\n      <td>9</td>\n    </tr>\n    <tr>\n      <th>166</th>\n      <td>203507</td>\n      <td>Giannis Antetokounmpo</td>\n      <td>Giannis</td>\n      <td>1610612749</td>\n      <td>MIL</td>\n      <td>28.0</td>\n      <td>63</td>\n      <td>47</td>\n      <td>16</td>\n      <td>0.746</td>\n      <td>...</td>\n      <td>56</td>\n      <td>9</td>\n      <td>24</td>\n      <td>1</td>\n      <td>5</td>\n      <td>16</td>\n      <td>4</td>\n      <td>4</td>\n      <td>5</td>\n      <td>3</td>\n    </tr>\n    <tr>\n      <th>...</th>\n      <td>...</td>\n      <td>...</td>\n      <td>...</td>\n      <td>...</td>\n      <td>...</td>\n      <td>...</td>\n      <td>...</td>\n      <td>...</td>\n      <td>...</td>\n      <td>...</td>\n      <td>...</td>\n      <td>...</td>\n      <td>...</td>\n      <td>...</td>\n      <td>...</td>\n      <td>...</td>\n      <td>...</td>\n      <td>...</td>\n      <td>...</td>\n      <td>...</td>\n      <td>...</td>\n    </tr>\n    <tr>\n      <th>14</th>\n      <td>1631214</td>\n      <td>Alondes Williams</td>\n      <td>Alondes</td>\n      <td>1610612751</td>\n      <td>BKN</td>\n      <td>24.0</td>\n      <td>1</td>\n      <td>1</td>\n      <td>0</td>\n      <td>1.000</td>\n      <td>...</td>\n      <td>491</td>\n      <td>499</td>\n      <td>433</td>\n      <td>526</td>\n      <td>535</td>\n      <td>511</td>\n      <td>539</td>\n      <td>253</td>\n      <td>39</td>\n      <td>536</td>\n    </tr>\n    <tr>\n      <th>472</th>\n      <td>1628425</td>\n      <td>Sterling Brown</td>\n      <td>Sterling</td>\n      <td>1610612747</td>\n      <td>LAL</td>\n      <td>28.0</td>\n      <td>4</td>\n      <td>2</td>\n      <td>2</td>\n      <td>0.500</td>\n      <td>...</td>\n      <td>491</td>\n      <td>318</td>\n      <td>433</td>\n      <td>526</td>\n      <td>535</td>\n      <td>330</td>\n      <td>488</td>\n      <td>253</td>\n      <td>39</td>\n      <td>503</td>\n    </tr>\n    <tr>\n      <th>373</th>\n      <td>1630701</td>\n      <td>Michael Foster Jr.</td>\n      <td>Michael</td>\n      <td>1610612755</td>\n      <td>PHI</td>\n      <td>20.0</td>\n      <td>1</td>\n      <td>1</td>\n      <td>0</td>\n      <td>1.000</td>\n      <td>...</td>\n      <td>491</td>\n      <td>499</td>\n      <td>528</td>\n      <td>526</td>\n      <td>535</td>\n      <td>409</td>\n      <td>537</td>\n      <td>253</td>\n      <td>39</td>\n      <td>538</td>\n    </tr>\n    <tr>\n      <th>118</th>\n      <td>1629126</td>\n      <td>Deonte Burton</td>\n      <td>Deonte</td>\n      <td>1610612758</td>\n      <td>SAC</td>\n      <td>29.0</td>\n      <td>2</td>\n      <td>1</td>\n      <td>1</td>\n      <td>0.500</td>\n      <td>...</td>\n      <td>491</td>\n      <td>141</td>\n      <td>528</td>\n      <td>439</td>\n      <td>535</td>\n      <td>76</td>\n      <td>537</td>\n      <td>253</td>\n      <td>39</td>\n      <td>538</td>\n    </tr>\n    <tr>\n      <th>151</th>\n      <td>1628402</td>\n      <td>Frank Jackson</td>\n      <td>Frank</td>\n      <td>1610612762</td>\n      <td>UTA</td>\n      <td>25.0</td>\n      <td>1</td>\n      <td>0</td>\n      <td>1</td>\n      <td>0.000</td>\n      <td>...</td>\n      <td>491</td>\n      <td>499</td>\n      <td>528</td>\n      <td>526</td>\n      <td>535</td>\n      <td>409</td>\n      <td>510</td>\n      <td>253</td>\n      <td>39</td>\n      <td>521</td>\n    </tr>\n  </tbody>\n</table>\n<p>539 rows × 66 columns</p>\n</div>"
     },
     "execution_count": 8,
     "metadata": {},
     "output_type": "execute_result"
    }
   ],
   "source": [
    "df = df.sort_values(by=c.PTS, ascending=False)\n",
    "df"
   ],
   "metadata": {
    "collapsed": false,
    "ExecuteTime": {
     "end_time": "2024-02-29T23:17:59.269956Z",
     "start_time": "2024-02-29T23:17:59.246973Z"
    }
   },
   "id": "f374b2fb79b0f0d5",
   "execution_count": 8
  },
  {
   "cell_type": "code",
   "outputs": [
    {
     "data": {
      "text/plain": "count    539.000000\nmean      48.040816\nstd       24.650686\nmin        1.000000\n25%       30.500000\n50%       54.000000\n75%       68.000000\nmax       83.000000\nName: GP, dtype: float64"
     },
     "execution_count": 9,
     "metadata": {},
     "output_type": "execute_result"
    }
   ],
   "source": [
    "df[c.GP].describe()"
   ],
   "metadata": {
    "collapsed": false,
    "ExecuteTime": {
     "end_time": "2024-02-29T23:20:10.945976Z",
     "start_time": "2024-02-29T23:20:10.940815Z"
    }
   },
   "id": "e4ea6324c1d93e60",
   "execution_count": 9
  },
  {
   "cell_type": "code",
   "outputs": [],
   "source": [],
   "metadata": {
    "collapsed": false
   },
   "id": "6c27da1bbf3d923f"
  }
 ],
 "metadata": {
  "kernelspec": {
   "display_name": "Python 3",
   "language": "python",
   "name": "python3"
  },
  "language_info": {
   "codemirror_mode": {
    "name": "ipython",
    "version": 2
   },
   "file_extension": ".py",
   "mimetype": "text/x-python",
   "name": "python",
   "nbconvert_exporter": "python",
   "pygments_lexer": "ipython2",
   "version": "2.7.6"
  }
 },
 "nbformat": 4,
 "nbformat_minor": 5
}
