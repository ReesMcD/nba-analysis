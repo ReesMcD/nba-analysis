{
 "cells": [
  {
   "cell_type": "code",
   "execution_count": 3,
   "id": "initial_id",
   "metadata": {
    "collapsed": true,
    "ExecuteTime": {
     "end_time": "2024-03-02T02:45:42.621651Z",
     "start_time": "2024-03-02T02:45:42.617302Z"
    }
   },
   "outputs": [
    {
     "data": {
      "text/plain": "'/Users/rmcdevi2/Projects/personal/nba-analysis/'"
     },
     "execution_count": 3,
     "metadata": {},
     "output_type": "execute_result"
    }
   ],
   "source": [
    "import warnings\n",
    "\n",
    "warnings.filterwarnings('ignore')\n",
    "\n",
    "import os\n",
    "\n",
    "from nba.players import get_all_players_by_season, get_players_game_log\n",
    "import nba.constants as c\n",
    "\n",
    "\n",
    "ROOT_DIR = os.getcwd()[:-33] # verify this points to the root directory of the project\n",
    "\n",
    "season = c.SEASON_2022_2023\n",
    "minimum_games_played = 30\n",
    "\n",
    "ROOT_DIR"
   ]
  },
  {
   "cell_type": "code",
   "outputs": [],
   "source": [
    "# Get all players game logs for the top 100 scorers minimum 30 gmaes played \n",
    "df = get_all_players_by_season(season)\n",
    "df = df.loc[df[c.GP] >= minimum_games_played]\n",
    "df = df.sort_values(by=c.PTS, ascending=False)\n",
    "df"
   ],
   "metadata": {
    "collapsed": false
   },
   "id": "ed07c32c68866156"
  },
  {
   "cell_type": "code",
   "outputs": [],
   "source": [
    "player_ids = df[c.PLAYER_ID].head(100).tolist()\n",
    "logs = get_players_game_log(player_ids, season)\n",
    "logs"
   ],
   "metadata": {
    "collapsed": false
   },
   "id": "8adfedf805aff1b7"
  },
  {
   "cell_type": "code",
   "outputs": [],
   "source": [
    "logs.to_csv(ROOT_DIR + '/data/game_logs/{season}/top_100_scorers_{season}_game_log.csv'.format(season=season), index=False)"
   ],
   "metadata": {
    "collapsed": false
   },
   "id": "7528d28424dccb60"
  }
 ],
 "metadata": {
  "kernelspec": {
   "display_name": "Python 3",
   "language": "python",
   "name": "python3"
  },
  "language_info": {
   "codemirror_mode": {
    "name": "ipython",
    "version": 2
   },
   "file_extension": ".py",
   "mimetype": "text/x-python",
   "name": "python",
   "nbconvert_exporter": "python",
   "pygments_lexer": "ipython2",
   "version": "2.7.6"
  }
 },
 "nbformat": 4,
 "nbformat_minor": 5
}
