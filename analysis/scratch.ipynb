{
 "cells": [
  {
   "cell_type": "code",
   "outputs": [
    {
     "data": {
      "text/plain": "'/Users/rmcdevi2/Projects/personal/nba-analysis/'"
     },
     "execution_count": 1,
     "metadata": {},
     "output_type": "execute_result"
    }
   ],
   "source": [
    "import warnings\n",
    "\n",
    "warnings.filterwarnings('ignore')\n",
    "\n",
    "import os\n",
    "\n",
    "from tools.modeling.timeseries.timeseriesmodeler import TimeSeriesModeler\n",
    "\n",
    "from nba.common import add_game_log_lag, add_game_log_last_5\n",
    "import nba.constants as c\n",
    "\n",
    "from sklearn.linear_model import LinearRegression\n",
    "\n",
    "import numpy as np\n",
    "import pandas as pd\n",
    "\n",
    "ROOT_DIR = os.getcwd()[:-8]  # verify this points to the root directory of the project\n",
    "\n",
    "season = c.SEASON_2022_2023\n",
    "\n",
    "ROOT_DIR"
   ],
   "metadata": {
    "collapsed": false,
    "ExecuteTime": {
     "end_time": "2024-03-02T15:52:21.479400Z",
     "start_time": "2024-03-02T15:52:18.899763Z"
    }
   },
   "id": "45d611bde80411f4",
   "execution_count": 1
  },
  {
   "cell_type": "code",
   "outputs": [
    {
     "data": {
      "text/plain": "     SEASON_YEAR  PLAYER_ID    PLAYER_NAME     TEAM_ID TEAM_ABBREVIATION  \\\n0        2022-23     203954    Joel Embiid  1610612755               PHI   \n1        2022-23     203954    Joel Embiid  1610612755               PHI   \n2        2022-23     203954    Joel Embiid  1610612755               PHI   \n3        2022-23     203954    Joel Embiid  1610612755               PHI   \n4        2022-23     203954    Joel Embiid  1610612755               PHI   \n...          ...        ...            ...         ...               ...   \n6576     2022-23    1628386  Jarrett Allen  1610612739               CLE   \n6577     2022-23    1628386  Jarrett Allen  1610612739               CLE   \n6578     2022-23    1628386  Jarrett Allen  1610612739               CLE   \n6579     2022-23    1628386  Jarrett Allen  1610612739               CLE   \n6580     2022-23    1628386  Jarrett Allen  1610612739               CLE   \n\n                TEAM_NAME   GAME_ID   GAME_DATE      MATCHUP WL  ...  AST  \\\n0      Philadelphia 76ers  22201198  2023-04-06  PHI vs. MIA  L  ...    2   \n1      Philadelphia 76ers  22201181  2023-04-04  PHI vs. BOS  W  ...    6   \n2      Philadelphia 76ers  22201174  2023-04-02    PHI @ MIL  L  ...    5   \n3      Philadelphia 76ers  22201150  2023-03-31  PHI vs. TOR  W  ...    1   \n4      Philadelphia 76ers  22201139  2023-03-29  PHI vs. DAL  W  ...    3   \n...                   ...       ...         ...          ... ..  ...  ...   \n6576  Cleveland Cavaliers  22200072  2022-10-28    CLE @ BOS  W  ...    2   \n6577  Cleveland Cavaliers  22200056  2022-10-26  CLE vs. ORL  W  ...    1   \n6578  Cleveland Cavaliers  22200039  2022-10-23  CLE vs. WAS  W  ...    3   \n6579  Cleveland Cavaliers  22200032  2022-10-22    CLE @ CHI  W  ...    2   \n6580  Cleveland Cavaliers  22200008  2022-10-19    CLE @ TOR  L  ...    0   \n\n      TOV  STL  BLK  BLKA  PF  PFD  PTS  PLUS_MINUS   SEASON  \n0       2    0    2     0   1    4   21         -11  2022-23  \n1       3    0    2     1   3    9   52          17  2022-23  \n2       1    0    0     1   4    4   28         -10  2022-23  \n3       5    0    1     0   3    6   25           0  2022-23  \n4       4    1    1     1   4    6   25          10  2022-23  \n...   ...  ...  ...   ...  ..  ...  ...         ...      ...  \n6576    0    0    0     0   2    2   12          25  2022-23  \n6577    1    1    1     0   5    5   18          11  2022-23  \n6578    0    0    2     1   2    4   15          -1  2022-23  \n6579    2    0    1     0   2    3    8           5  2022-23  \n6580    1    0    2     1   2    5   13           2  2022-23  \n\n[6581 rows x 33 columns]",
      "text/html": "<div>\n<style scoped>\n    .dataframe tbody tr th:only-of-type {\n        vertical-align: middle;\n    }\n\n    .dataframe tbody tr th {\n        vertical-align: top;\n    }\n\n    .dataframe thead th {\n        text-align: right;\n    }\n</style>\n<table border=\"1\" class=\"dataframe\">\n  <thead>\n    <tr style=\"text-align: right;\">\n      <th></th>\n      <th>SEASON_YEAR</th>\n      <th>PLAYER_ID</th>\n      <th>PLAYER_NAME</th>\n      <th>TEAM_ID</th>\n      <th>TEAM_ABBREVIATION</th>\n      <th>TEAM_NAME</th>\n      <th>GAME_ID</th>\n      <th>GAME_DATE</th>\n      <th>MATCHUP</th>\n      <th>WL</th>\n      <th>...</th>\n      <th>AST</th>\n      <th>TOV</th>\n      <th>STL</th>\n      <th>BLK</th>\n      <th>BLKA</th>\n      <th>PF</th>\n      <th>PFD</th>\n      <th>PTS</th>\n      <th>PLUS_MINUS</th>\n      <th>SEASON</th>\n    </tr>\n  </thead>\n  <tbody>\n    <tr>\n      <th>0</th>\n      <td>2022-23</td>\n      <td>203954</td>\n      <td>Joel Embiid</td>\n      <td>1610612755</td>\n      <td>PHI</td>\n      <td>Philadelphia 76ers</td>\n      <td>22201198</td>\n      <td>2023-04-06</td>\n      <td>PHI vs. MIA</td>\n      <td>L</td>\n      <td>...</td>\n      <td>2</td>\n      <td>2</td>\n      <td>0</td>\n      <td>2</td>\n      <td>0</td>\n      <td>1</td>\n      <td>4</td>\n      <td>21</td>\n      <td>-11</td>\n      <td>2022-23</td>\n    </tr>\n    <tr>\n      <th>1</th>\n      <td>2022-23</td>\n      <td>203954</td>\n      <td>Joel Embiid</td>\n      <td>1610612755</td>\n      <td>PHI</td>\n      <td>Philadelphia 76ers</td>\n      <td>22201181</td>\n      <td>2023-04-04</td>\n      <td>PHI vs. BOS</td>\n      <td>W</td>\n      <td>...</td>\n      <td>6</td>\n      <td>3</td>\n      <td>0</td>\n      <td>2</td>\n      <td>1</td>\n      <td>3</td>\n      <td>9</td>\n      <td>52</td>\n      <td>17</td>\n      <td>2022-23</td>\n    </tr>\n    <tr>\n      <th>2</th>\n      <td>2022-23</td>\n      <td>203954</td>\n      <td>Joel Embiid</td>\n      <td>1610612755</td>\n      <td>PHI</td>\n      <td>Philadelphia 76ers</td>\n      <td>22201174</td>\n      <td>2023-04-02</td>\n      <td>PHI @ MIL</td>\n      <td>L</td>\n      <td>...</td>\n      <td>5</td>\n      <td>1</td>\n      <td>0</td>\n      <td>0</td>\n      <td>1</td>\n      <td>4</td>\n      <td>4</td>\n      <td>28</td>\n      <td>-10</td>\n      <td>2022-23</td>\n    </tr>\n    <tr>\n      <th>3</th>\n      <td>2022-23</td>\n      <td>203954</td>\n      <td>Joel Embiid</td>\n      <td>1610612755</td>\n      <td>PHI</td>\n      <td>Philadelphia 76ers</td>\n      <td>22201150</td>\n      <td>2023-03-31</td>\n      <td>PHI vs. TOR</td>\n      <td>W</td>\n      <td>...</td>\n      <td>1</td>\n      <td>5</td>\n      <td>0</td>\n      <td>1</td>\n      <td>0</td>\n      <td>3</td>\n      <td>6</td>\n      <td>25</td>\n      <td>0</td>\n      <td>2022-23</td>\n    </tr>\n    <tr>\n      <th>4</th>\n      <td>2022-23</td>\n      <td>203954</td>\n      <td>Joel Embiid</td>\n      <td>1610612755</td>\n      <td>PHI</td>\n      <td>Philadelphia 76ers</td>\n      <td>22201139</td>\n      <td>2023-03-29</td>\n      <td>PHI vs. DAL</td>\n      <td>W</td>\n      <td>...</td>\n      <td>3</td>\n      <td>4</td>\n      <td>1</td>\n      <td>1</td>\n      <td>1</td>\n      <td>4</td>\n      <td>6</td>\n      <td>25</td>\n      <td>10</td>\n      <td>2022-23</td>\n    </tr>\n    <tr>\n      <th>...</th>\n      <td>...</td>\n      <td>...</td>\n      <td>...</td>\n      <td>...</td>\n      <td>...</td>\n      <td>...</td>\n      <td>...</td>\n      <td>...</td>\n      <td>...</td>\n      <td>...</td>\n      <td>...</td>\n      <td>...</td>\n      <td>...</td>\n      <td>...</td>\n      <td>...</td>\n      <td>...</td>\n      <td>...</td>\n      <td>...</td>\n      <td>...</td>\n      <td>...</td>\n      <td>...</td>\n    </tr>\n    <tr>\n      <th>6576</th>\n      <td>2022-23</td>\n      <td>1628386</td>\n      <td>Jarrett Allen</td>\n      <td>1610612739</td>\n      <td>CLE</td>\n      <td>Cleveland Cavaliers</td>\n      <td>22200072</td>\n      <td>2022-10-28</td>\n      <td>CLE @ BOS</td>\n      <td>W</td>\n      <td>...</td>\n      <td>2</td>\n      <td>0</td>\n      <td>0</td>\n      <td>0</td>\n      <td>0</td>\n      <td>2</td>\n      <td>2</td>\n      <td>12</td>\n      <td>25</td>\n      <td>2022-23</td>\n    </tr>\n    <tr>\n      <th>6577</th>\n      <td>2022-23</td>\n      <td>1628386</td>\n      <td>Jarrett Allen</td>\n      <td>1610612739</td>\n      <td>CLE</td>\n      <td>Cleveland Cavaliers</td>\n      <td>22200056</td>\n      <td>2022-10-26</td>\n      <td>CLE vs. ORL</td>\n      <td>W</td>\n      <td>...</td>\n      <td>1</td>\n      <td>1</td>\n      <td>1</td>\n      <td>1</td>\n      <td>0</td>\n      <td>5</td>\n      <td>5</td>\n      <td>18</td>\n      <td>11</td>\n      <td>2022-23</td>\n    </tr>\n    <tr>\n      <th>6578</th>\n      <td>2022-23</td>\n      <td>1628386</td>\n      <td>Jarrett Allen</td>\n      <td>1610612739</td>\n      <td>CLE</td>\n      <td>Cleveland Cavaliers</td>\n      <td>22200039</td>\n      <td>2022-10-23</td>\n      <td>CLE vs. WAS</td>\n      <td>W</td>\n      <td>...</td>\n      <td>3</td>\n      <td>0</td>\n      <td>0</td>\n      <td>2</td>\n      <td>1</td>\n      <td>2</td>\n      <td>4</td>\n      <td>15</td>\n      <td>-1</td>\n      <td>2022-23</td>\n    </tr>\n    <tr>\n      <th>6579</th>\n      <td>2022-23</td>\n      <td>1628386</td>\n      <td>Jarrett Allen</td>\n      <td>1610612739</td>\n      <td>CLE</td>\n      <td>Cleveland Cavaliers</td>\n      <td>22200032</td>\n      <td>2022-10-22</td>\n      <td>CLE @ CHI</td>\n      <td>W</td>\n      <td>...</td>\n      <td>2</td>\n      <td>2</td>\n      <td>0</td>\n      <td>1</td>\n      <td>0</td>\n      <td>2</td>\n      <td>3</td>\n      <td>8</td>\n      <td>5</td>\n      <td>2022-23</td>\n    </tr>\n    <tr>\n      <th>6580</th>\n      <td>2022-23</td>\n      <td>1628386</td>\n      <td>Jarrett Allen</td>\n      <td>1610612739</td>\n      <td>CLE</td>\n      <td>Cleveland Cavaliers</td>\n      <td>22200008</td>\n      <td>2022-10-19</td>\n      <td>CLE @ TOR</td>\n      <td>L</td>\n      <td>...</td>\n      <td>0</td>\n      <td>1</td>\n      <td>0</td>\n      <td>2</td>\n      <td>1</td>\n      <td>2</td>\n      <td>5</td>\n      <td>13</td>\n      <td>2</td>\n      <td>2022-23</td>\n    </tr>\n  </tbody>\n</table>\n<p>6581 rows × 33 columns</p>\n</div>"
     },
     "execution_count": 2,
     "metadata": {},
     "output_type": "execute_result"
    }
   ],
   "source": [
    "logs = pd.read_csv(ROOT_DIR + '/data/game_logs/{season}/top_100_scorers_{season}_game_log.csv'.format(season=season))\n",
    "logs"
   ],
   "metadata": {
    "collapsed": false,
    "ExecuteTime": {
     "end_time": "2024-03-02T15:52:21.511283Z",
     "start_time": "2024-03-02T15:52:21.480319Z"
    }
   },
   "id": "d9dc783b8b4199f2",
   "execution_count": 2
  },
  {
   "cell_type": "code",
   "outputs": [
    {
     "data": {
      "text/plain": "     SEASON_YEAR  PLAYER_ID         PLAYER_NAME     TEAM_ID TEAM_ABBREVIATION  \\\n552      2022-23       2544        LeBron James  1610612747               LAL   \n551      2022-23       2544        LeBron James  1610612747               LAL   \n550      2022-23       2544        LeBron James  1610612747               LAL   \n549      2022-23       2544        LeBron James  1610612747               LAL   \n548      2022-23       2544        LeBron James  1610612747               LAL   \n...          ...        ...                 ...         ...               ...   \n4800     2022-23    1631097  Bennedict Mathurin  1610612754               IND   \n4799     2022-23    1631097  Bennedict Mathurin  1610612754               IND   \n4798     2022-23    1631097  Bennedict Mathurin  1610612754               IND   \n4797     2022-23    1631097  Bennedict Mathurin  1610612754               IND   \n4796     2022-23    1631097  Bennedict Mathurin  1610612754               IND   \n\n               TEAM_NAME   GAME_ID  GAME_DATE      MATCHUP WL  ...  \\\n552   Los Angeles Lakers  22200002 2022-10-18    LAL @ GSW  L  ...   \n551   Los Angeles Lakers  22200016 2022-10-20  LAL vs. LAC  L  ...   \n550   Los Angeles Lakers  22200037 2022-10-23  LAL vs. POR  L  ...   \n549   Los Angeles Lakers  22200064 2022-10-26    LAL @ DEN  L  ...   \n548   Los Angeles Lakers  22200076 2022-10-28    LAL @ MIN  L  ...   \n...                  ...       ...        ...          ... ..  ...   \n4800      Indiana Pacers  22201149 2023-03-31  IND vs. OKC  W  ...   \n4799      Indiana Pacers  22201173 2023-04-02    IND @ CLE  L  ...   \n4798      Indiana Pacers  22201190 2023-04-05  IND vs. NYK  L  ...   \n4797      Indiana Pacers  22201203 2023-04-07  IND vs. DET  L  ...   \n4796      Indiana Pacers  22201220 2023-04-09    IND @ NYK  W  ...   \n\n      FG_PCT_LAG  FGM_LAG  FGA_LAG  FG3M_LAG  FG3A_LAG  FG3_PCT_LAG  FTM_LAG  \\\n552          NaN      NaN      NaN       NaN       NaN          NaN      NaN   \n551        0.462     12.0     26.0       3.0      10.0        0.300      4.0   \n550        0.412      7.0     17.0       2.0       8.0        0.250      4.0   \n549        0.545     12.0     22.0       2.0       9.0        0.222      5.0   \n548        0.381      8.0     21.0       2.0       8.0        0.250      1.0   \n...          ...      ...      ...       ...       ...          ...      ...   \n4800       0.524     11.0     21.0       1.0       5.0        0.200      6.0   \n4799       0.625      5.0      8.0       1.0       3.0        0.333      4.0   \n4798       0.417      5.0     12.0       1.0       2.0        0.500      8.0   \n4797       0.353      6.0     17.0       1.0       3.0        0.333      4.0   \n4796       0.400      4.0     10.0       0.0       1.0        0.000      8.0   \n\n      FTA_LAG  FT_PCT_LAG  PLUS_MINUS_LAG  \n552       NaN         NaN             NaN  \n551       4.0       1.000           -10.0  \n550       6.0       0.667            -1.0  \n549       7.0       0.714             2.0  \n548       2.0       0.500            -7.0  \n...       ...         ...             ...  \n4800      9.0       0.667           -11.0  \n4799      5.0       0.800            -9.0  \n4798      8.0       1.000            -7.0  \n4797      6.0       0.667           -31.0  \n4796     10.0       0.800             4.0  \n\n[6581 rows x 67 columns]",
      "text/html": "<div>\n<style scoped>\n    .dataframe tbody tr th:only-of-type {\n        vertical-align: middle;\n    }\n\n    .dataframe tbody tr th {\n        vertical-align: top;\n    }\n\n    .dataframe thead th {\n        text-align: right;\n    }\n</style>\n<table border=\"1\" class=\"dataframe\">\n  <thead>\n    <tr style=\"text-align: right;\">\n      <th></th>\n      <th>SEASON_YEAR</th>\n      <th>PLAYER_ID</th>\n      <th>PLAYER_NAME</th>\n      <th>TEAM_ID</th>\n      <th>TEAM_ABBREVIATION</th>\n      <th>TEAM_NAME</th>\n      <th>GAME_ID</th>\n      <th>GAME_DATE</th>\n      <th>MATCHUP</th>\n      <th>WL</th>\n      <th>...</th>\n      <th>FG_PCT_LAG</th>\n      <th>FGM_LAG</th>\n      <th>FGA_LAG</th>\n      <th>FG3M_LAG</th>\n      <th>FG3A_LAG</th>\n      <th>FG3_PCT_LAG</th>\n      <th>FTM_LAG</th>\n      <th>FTA_LAG</th>\n      <th>FT_PCT_LAG</th>\n      <th>PLUS_MINUS_LAG</th>\n    </tr>\n  </thead>\n  <tbody>\n    <tr>\n      <th>552</th>\n      <td>2022-23</td>\n      <td>2544</td>\n      <td>LeBron James</td>\n      <td>1610612747</td>\n      <td>LAL</td>\n      <td>Los Angeles Lakers</td>\n      <td>22200002</td>\n      <td>2022-10-18</td>\n      <td>LAL @ GSW</td>\n      <td>L</td>\n      <td>...</td>\n      <td>NaN</td>\n      <td>NaN</td>\n      <td>NaN</td>\n      <td>NaN</td>\n      <td>NaN</td>\n      <td>NaN</td>\n      <td>NaN</td>\n      <td>NaN</td>\n      <td>NaN</td>\n      <td>NaN</td>\n    </tr>\n    <tr>\n      <th>551</th>\n      <td>2022-23</td>\n      <td>2544</td>\n      <td>LeBron James</td>\n      <td>1610612747</td>\n      <td>LAL</td>\n      <td>Los Angeles Lakers</td>\n      <td>22200016</td>\n      <td>2022-10-20</td>\n      <td>LAL vs. LAC</td>\n      <td>L</td>\n      <td>...</td>\n      <td>0.462</td>\n      <td>12.0</td>\n      <td>26.0</td>\n      <td>3.0</td>\n      <td>10.0</td>\n      <td>0.300</td>\n      <td>4.0</td>\n      <td>4.0</td>\n      <td>1.000</td>\n      <td>-10.0</td>\n    </tr>\n    <tr>\n      <th>550</th>\n      <td>2022-23</td>\n      <td>2544</td>\n      <td>LeBron James</td>\n      <td>1610612747</td>\n      <td>LAL</td>\n      <td>Los Angeles Lakers</td>\n      <td>22200037</td>\n      <td>2022-10-23</td>\n      <td>LAL vs. POR</td>\n      <td>L</td>\n      <td>...</td>\n      <td>0.412</td>\n      <td>7.0</td>\n      <td>17.0</td>\n      <td>2.0</td>\n      <td>8.0</td>\n      <td>0.250</td>\n      <td>4.0</td>\n      <td>6.0</td>\n      <td>0.667</td>\n      <td>-1.0</td>\n    </tr>\n    <tr>\n      <th>549</th>\n      <td>2022-23</td>\n      <td>2544</td>\n      <td>LeBron James</td>\n      <td>1610612747</td>\n      <td>LAL</td>\n      <td>Los Angeles Lakers</td>\n      <td>22200064</td>\n      <td>2022-10-26</td>\n      <td>LAL @ DEN</td>\n      <td>L</td>\n      <td>...</td>\n      <td>0.545</td>\n      <td>12.0</td>\n      <td>22.0</td>\n      <td>2.0</td>\n      <td>9.0</td>\n      <td>0.222</td>\n      <td>5.0</td>\n      <td>7.0</td>\n      <td>0.714</td>\n      <td>2.0</td>\n    </tr>\n    <tr>\n      <th>548</th>\n      <td>2022-23</td>\n      <td>2544</td>\n      <td>LeBron James</td>\n      <td>1610612747</td>\n      <td>LAL</td>\n      <td>Los Angeles Lakers</td>\n      <td>22200076</td>\n      <td>2022-10-28</td>\n      <td>LAL @ MIN</td>\n      <td>L</td>\n      <td>...</td>\n      <td>0.381</td>\n      <td>8.0</td>\n      <td>21.0</td>\n      <td>2.0</td>\n      <td>8.0</td>\n      <td>0.250</td>\n      <td>1.0</td>\n      <td>2.0</td>\n      <td>0.500</td>\n      <td>-7.0</td>\n    </tr>\n    <tr>\n      <th>...</th>\n      <td>...</td>\n      <td>...</td>\n      <td>...</td>\n      <td>...</td>\n      <td>...</td>\n      <td>...</td>\n      <td>...</td>\n      <td>...</td>\n      <td>...</td>\n      <td>...</td>\n      <td>...</td>\n      <td>...</td>\n      <td>...</td>\n      <td>...</td>\n      <td>...</td>\n      <td>...</td>\n      <td>...</td>\n      <td>...</td>\n      <td>...</td>\n      <td>...</td>\n      <td>...</td>\n    </tr>\n    <tr>\n      <th>4800</th>\n      <td>2022-23</td>\n      <td>1631097</td>\n      <td>Bennedict Mathurin</td>\n      <td>1610612754</td>\n      <td>IND</td>\n      <td>Indiana Pacers</td>\n      <td>22201149</td>\n      <td>2023-03-31</td>\n      <td>IND vs. OKC</td>\n      <td>W</td>\n      <td>...</td>\n      <td>0.524</td>\n      <td>11.0</td>\n      <td>21.0</td>\n      <td>1.0</td>\n      <td>5.0</td>\n      <td>0.200</td>\n      <td>6.0</td>\n      <td>9.0</td>\n      <td>0.667</td>\n      <td>-11.0</td>\n    </tr>\n    <tr>\n      <th>4799</th>\n      <td>2022-23</td>\n      <td>1631097</td>\n      <td>Bennedict Mathurin</td>\n      <td>1610612754</td>\n      <td>IND</td>\n      <td>Indiana Pacers</td>\n      <td>22201173</td>\n      <td>2023-04-02</td>\n      <td>IND @ CLE</td>\n      <td>L</td>\n      <td>...</td>\n      <td>0.625</td>\n      <td>5.0</td>\n      <td>8.0</td>\n      <td>1.0</td>\n      <td>3.0</td>\n      <td>0.333</td>\n      <td>4.0</td>\n      <td>5.0</td>\n      <td>0.800</td>\n      <td>-9.0</td>\n    </tr>\n    <tr>\n      <th>4798</th>\n      <td>2022-23</td>\n      <td>1631097</td>\n      <td>Bennedict Mathurin</td>\n      <td>1610612754</td>\n      <td>IND</td>\n      <td>Indiana Pacers</td>\n      <td>22201190</td>\n      <td>2023-04-05</td>\n      <td>IND vs. NYK</td>\n      <td>L</td>\n      <td>...</td>\n      <td>0.417</td>\n      <td>5.0</td>\n      <td>12.0</td>\n      <td>1.0</td>\n      <td>2.0</td>\n      <td>0.500</td>\n      <td>8.0</td>\n      <td>8.0</td>\n      <td>1.000</td>\n      <td>-7.0</td>\n    </tr>\n    <tr>\n      <th>4797</th>\n      <td>2022-23</td>\n      <td>1631097</td>\n      <td>Bennedict Mathurin</td>\n      <td>1610612754</td>\n      <td>IND</td>\n      <td>Indiana Pacers</td>\n      <td>22201203</td>\n      <td>2023-04-07</td>\n      <td>IND vs. DET</td>\n      <td>L</td>\n      <td>...</td>\n      <td>0.353</td>\n      <td>6.0</td>\n      <td>17.0</td>\n      <td>1.0</td>\n      <td>3.0</td>\n      <td>0.333</td>\n      <td>4.0</td>\n      <td>6.0</td>\n      <td>0.667</td>\n      <td>-31.0</td>\n    </tr>\n    <tr>\n      <th>4796</th>\n      <td>2022-23</td>\n      <td>1631097</td>\n      <td>Bennedict Mathurin</td>\n      <td>1610612754</td>\n      <td>IND</td>\n      <td>Indiana Pacers</td>\n      <td>22201220</td>\n      <td>2023-04-09</td>\n      <td>IND @ NYK</td>\n      <td>W</td>\n      <td>...</td>\n      <td>0.400</td>\n      <td>4.0</td>\n      <td>10.0</td>\n      <td>0.0</td>\n      <td>1.0</td>\n      <td>0.000</td>\n      <td>8.0</td>\n      <td>10.0</td>\n      <td>0.800</td>\n      <td>4.0</td>\n    </tr>\n  </tbody>\n</table>\n<p>6581 rows × 67 columns</p>\n</div>"
     },
     "execution_count": 3,
     "metadata": {},
     "output_type": "execute_result"
    }
   ],
   "source": [
    "logs[c.GAME_DATE] = pd.to_datetime(logs[c.GAME_DATE])\n",
    "logs = add_game_log_last_5(logs)\n",
    "logs = add_game_log_lag(logs)\n",
    "\n",
    "logs.sort_values(by=[c.GAME_DATE])\n",
    "logs"
   ],
   "metadata": {
    "collapsed": false,
    "ExecuteTime": {
     "end_time": "2024-03-02T15:52:21.531818Z",
     "start_time": "2024-03-02T15:52:21.507845Z"
    }
   },
   "id": "e12c7f773c039546",
   "execution_count": 3
  },
  {
   "cell_type": "code",
   "outputs": [
    {
     "data": {
      "text/plain": "Index(['PTS', 'MIN_LAG', 'PTS_LAG', 'REB_LAG', 'AST_LAG', 'STL_LAG', 'BLK_LAG',\n       'TOV_LAG', 'FG_PCT_LAG', 'FGM_LAG', 'FGA_LAG', 'FG3M_LAG', 'FG3A_LAG',\n       'FG3_PCT_LAG', 'FTM_LAG', 'FTA_LAG', 'FT_PCT_LAG', 'PLUS_MINUS_LAG',\n       'MIN_LAST_5', 'PTS_LAST_5', 'REB_LAST_5', 'AST_LAST_5', 'STL_LAST_5',\n       'BLK_LAST_5', 'TOV_LAST_5', 'FG_PCT_LAST_5', 'FGM_LAST_5', 'FGA_LAST_5',\n       'FG3M_LAST_5', 'FG3A_LAST_5', 'FG3_PCT_LAST_5', 'FTM_LAST_5',\n       'FTA_LAST_5', 'FT_PCT_LAST_5', 'PLUS_MINUS_LAST_5'],\n      dtype='object')"
     },
     "execution_count": 4,
     "metadata": {},
     "output_type": "execute_result"
    }
   ],
   "source": [
    "# Preprocess Data\n",
    "PTS_PREDICTION_MASK = [c.PTS] + c.GAME_LOG_LAG_MASK + c.GAME_LOG_LAST_5_MASK\n",
    "logs = logs[PTS_PREDICTION_MASK]\n",
    "logs = logs.dropna()\n",
    "\n",
    "cats = logs.select_dtypes(exclude=np.number).columns.tolist()\n",
    "for col in cats:\n",
    "    logs[col] = logs[col].astype('category')\n",
    "\n",
    "logs.columns"
   ],
   "metadata": {
    "collapsed": false,
    "ExecuteTime": {
     "end_time": "2024-03-02T15:52:21.640701Z",
     "start_time": "2024-03-02T15:52:21.532469Z"
    }
   },
   "id": "59f5e9fa8c57a965",
   "execution_count": 4
  },
  {
   "cell_type": "code",
   "outputs": [],
   "source": [
    "params = {\n",
    "    'n_jobs': 1000,\n",
    "}"
   ],
   "metadata": {
    "collapsed": false,
    "ExecuteTime": {
     "end_time": "2024-03-02T15:52:21.685574Z",
     "start_time": "2024-03-02T15:52:21.538556Z"
    }
   },
   "id": "8e362a445c38c52e",
   "execution_count": 5
  },
  {
   "cell_type": "code",
   "outputs": [
    {
     "name": "stdout",
     "output_type": "stream",
     "text": [
      "Cross Validation Iteration: 1\n",
      "Cross Validation Iteration: 2\n",
      "Cross Validation Iteration: 3\n",
      "Cross Validation Iteration: 4\n",
      "Cross Validation Iteration: 5\n"
     ]
    }
   ],
   "source": [
    "# Base Model\n",
    "modeler = TimeSeriesModeler(\n",
    "    LinearRegression(),\n",
    "    logs,\n",
    "    c.PTS,\n",
    ")\n",
    "modeler.train(params)"
   ],
   "metadata": {
    "collapsed": false,
    "ExecuteTime": {
     "end_time": "2024-03-02T15:52:22.815552Z",
     "start_time": "2024-03-02T15:52:21.540718Z"
    }
   },
   "id": "75b651c7dcfe0bcb",
   "execution_count": 6
  },
  {
   "cell_type": "code",
   "outputs": [
    {
     "data": {
      "text/plain": "8.245162078679048"
     },
     "execution_count": 7,
     "metadata": {},
     "output_type": "execute_result"
    }
   ],
   "source": [
    "modeler.score"
   ],
   "metadata": {
    "collapsed": false,
    "ExecuteTime": {
     "end_time": "2024-03-02T15:52:22.829902Z",
     "start_time": "2024-03-02T15:52:22.816772Z"
    }
   },
   "id": "89f8177ba48d2450",
   "execution_count": 7
  }
 ],
 "metadata": {
  "kernelspec": {
   "display_name": "Python 3",
   "language": "python",
   "name": "python3"
  },
  "language_info": {
   "codemirror_mode": {
    "name": "ipython",
    "version": 2
   },
   "file_extension": ".py",
   "mimetype": "text/x-python",
   "name": "python",
   "nbconvert_exporter": "python",
   "pygments_lexer": "ipython2",
   "version": "2.7.6"
  }
 },
 "nbformat": 4,
 "nbformat_minor": 5
}
