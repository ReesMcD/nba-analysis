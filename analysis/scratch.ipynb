{
 "cells": [
  {
   "cell_type": "code",
   "execution_count": 13,
   "id": "initial_id",
   "metadata": {
    "collapsed": true,
    "ExecuteTime": {
     "end_time": "2024-03-01T00:50:15.410378Z",
     "start_time": "2024-03-01T00:50:15.370985Z"
    }
   },
   "outputs": [
    {
     "data": {
      "text/plain": "'/Users/rmcdevi2/Projects/personal/nba-analysis/'"
     },
     "execution_count": 13,
     "metadata": {},
     "output_type": "execute_result"
    }
   ],
   "source": [
    "import warnings\n",
    "\n",
    "warnings.filterwarnings('ignore')\n",
    "\n",
    "import os\n",
    "\n",
    "from tools.modeling.timeserieshyperparamtuner import TimeSeriesHyperParamTuner\n",
    "from tools.modeling.timeseriesmodeler import TimeSeriesModeler\n",
    "\n",
    "from nba.players import get_all_players_by_season, get_players_game_log\n",
    "from nba.common import add_game_log_lag, add_game_log_last_5\n",
    "import nba.constants as c\n",
    "\n",
    "from xgboost import XGBRegressor\n",
    "from hyperopt import hp\n",
    "\n",
    "import numpy as np\n",
    "import pandas as pd\n",
    "\n",
    "import shap\n",
    "\n",
    "\n",
    "ROOT_DIR = os.getcwd()[:-8] # verify this points to the root directory of the project\n",
    "\n",
    "season = c.SEASON_2022_2023\n",
    "\n",
    "ROOT_DIR"
   ]
  },
  {
   "cell_type": "code",
   "outputs": [
    {
     "data": {
      "text/plain": "count    405.000000\nmean      10.724938\nstd        6.782676\nmin        1.300000\n25%        5.600000\n50%        9.000000\n75%       14.100000\nmax       33.100000\nName: PTS, dtype: float64"
     },
     "execution_count": 14,
     "metadata": {},
     "output_type": "execute_result"
    }
   ],
   "source": [
    "# Get all players game logs for the top 100 scorers of the season\n",
    "df = get_all_players_by_season(season)\n",
    "df = df.loc[df[c.GP] >= 30]\n",
    "df = df.sort_values(by=c.PTS, ascending=False)\n",
    "df[c.PTS].describe()\n",
    "# player_ids = df[c.PLAYER_ID].head(100).tolist()\n",
    "# logs = get_players_game_log(player_ids, season)"
   ],
   "metadata": {
    "collapsed": false,
    "ExecuteTime": {
     "end_time": "2024-03-01T00:50:15.636244Z",
     "start_time": "2024-03-01T00:50:15.409820Z"
    }
   },
   "id": "6e26cff35fe086a7",
   "execution_count": 14
  },
  {
   "cell_type": "code",
   "outputs": [],
   "source": [
    "# logs.to_csv(ROOT_DIR + '/data/game_logs/{season}/top_100_scorers_{season}_game_log.csv'.format(season=season), index=False)"
   ],
   "metadata": {
    "collapsed": false,
    "ExecuteTime": {
     "end_time": "2024-03-01T00:50:15.636572Z",
     "start_time": "2024-03-01T00:50:15.634950Z"
    }
   },
   "id": "2cd0ef4699623d2b",
   "execution_count": 15
  }
 ],
 "metadata": {
  "kernelspec": {
   "display_name": "Python 3",
   "language": "python",
   "name": "python3"
  },
  "language_info": {
   "codemirror_mode": {
    "name": "ipython",
    "version": 2
   },
   "file_extension": ".py",
   "mimetype": "text/x-python",
   "name": "python",
   "nbconvert_exporter": "python",
   "pygments_lexer": "ipython2",
   "version": "2.7.6"
  }
 },
 "nbformat": 4,
 "nbformat_minor": 5
}
