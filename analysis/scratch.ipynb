{
 "cells": [
  {
   "cell_type": "code",
   "execution_count": null,
   "id": "initial_id",
   "metadata": {
    "collapsed": true
   },
   "outputs": [],
   "source": [
    "import warnings\n",
    "\n",
    "warnings.filterwarnings('ignore')\n",
    "\n",
    "import os\n",
    "\n",
    "from nba.common import add_game_log_lag, add_game_log_last_5\n",
    "from tools.hyperparamtuning import HyperParamTuning\n",
    "from tools.modeler import Modeler\n",
    "import nba.constants as c\n",
    "\n",
    "from sklearn.model_selection import train_test_split\n",
    "\n",
    "from xgboost import XGBRegressor\n",
    "from hyperopt import hp\n",
    "\n",
    "import numpy as np\n",
    "import pandas as pd\n",
    "\n",
    "import glob\n",
    "import shap\n",
    "\n",
    "ROOT_DIR = os.getcwd()[:-17] # verify this points to the root directory of the project\n",
    "\n",
    "\n",
    "SEED = 1\n",
    "early_stopping = 50\n",
    "season = c.SEASON_2022_2023\n",
    "player_game_log_path = ROOT_DIR + 'data/game_logs/2022-23/player'\n",
    "player_game_log_csv_files = glob.glob(os.path.join(player_game_log_path, '*.csv'))\n",
    "\n",
    "log = pd.DataFrame()\n",
    "\n",
    "ROOT_DIR"
   ]
  },
  {
   "cell_type": "code",
   "outputs": [],
   "source": [
    "# Get Data\n",
    "for f in player_game_log_csv_files:\n",
    "    df = pd.read_csv(f)\n",
    "    log = pd.concat([log, df], ignore_index=True)\n",
    "\n",
    "log.to_csv(ROOT_DIR + '/data/game_logs/2022-23/player_game_log_2022-2023', index=False)\n",
    "log"
   ],
   "metadata": {
    "collapsed": false
   },
   "id": "a10ae9a609fdee5e"
  },
  {
   "cell_type": "code",
   "outputs": [],
   "source": [
    "# Preprocess Data\n",
    "log = add_game_log_lag(log)\n",
    "log = add_game_log_last_5(log)\n",
    "log.sort_values(by=[c.GAME_DATE])\n",
    "log = log[c.PTS_PREDICTION_MASK]\n",
    "log.dropna()\n",
    "\n",
    "X, y = log.drop(c.PTS, axis=1), log[c.PTS]\n",
    "\n",
    "cats = X.select_dtypes(exclude=np.number).columns.tolist()\n",
    "for col in cats:\n",
    "    X[col] = X[col].astype('category')"
   ],
   "metadata": {
    "collapsed": false
   },
   "id": "9cdf050b397056ed"
  },
  {
   "cell_type": "code",
   "outputs": [],
   "source": [],
   "metadata": {
    "collapsed": false
   },
   "id": "638c2a8975995f60"
  }
 ],
 "metadata": {
  "kernelspec": {
   "display_name": "Python 3",
   "language": "python",
   "name": "python3"
  },
  "language_info": {
   "codemirror_mode": {
    "name": "ipython",
    "version": 2
   },
   "file_extension": ".py",
   "mimetype": "text/x-python",
   "name": "python",
   "nbconvert_exporter": "python",
   "pygments_lexer": "ipython2",
   "version": "2.7.6"
  }
 },
 "nbformat": 4,
 "nbformat_minor": 5
}
